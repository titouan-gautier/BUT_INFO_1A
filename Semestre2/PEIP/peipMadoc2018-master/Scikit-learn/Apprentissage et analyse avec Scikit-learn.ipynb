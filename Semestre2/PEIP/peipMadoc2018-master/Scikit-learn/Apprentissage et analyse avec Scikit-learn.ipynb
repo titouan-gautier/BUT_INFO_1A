{
 "cells": [
  {
   "cell_type": "markdown",
   "metadata": {},
   "source": [
    "<p style=\"text-align:right\";>Polytech Nantes - 2018</p>\n",
    "\n",
    "# Objectif & Plan\n",
    "\n",
    "La bibliothèque [scikit-learn](https://scikit-learn.org/) est destinée à l'apprentissage automatique et l'analyse de données. L'objectif de cette séance est d'introduire quelques méthodes et méthodologies pour ce domaine.\n",
    "\n",
    "Le plan de ce notebook est le suivant :\n",
    "1. le jeu de données Iris\n",
    "2. modèle de classification\n",
    "3. modèle de régression\n",
    "4. évaluation de modèle"
   ]
  },
  {
   "cell_type": "markdown",
   "metadata": {},
   "source": [
    "# Le jeu de données Iris"
   ]
  },
  {
   "cell_type": "markdown",
   "metadata": {},
   "source": [
    "Le jeu de données Iris décrit les variations morphologiques des fleurs de trois espèces d'iris (*Iris setosa, Iris virginica et Iris versicolor*). Il comprend 150 fleurs décrites par  la longueur et la largeur des sépales et des pétales, en centimètres. Le but est de reconnaître l'espèce à partir des caractéritiques de la fleur. Comme il s'agit d'un jeu de données standard, il est proposé dans [scikit-learn](https://scikit-learn.org/) et peut être chargé ainsi :"
   ]
  },
  {
   "cell_type": "code",
   "execution_count": null,
   "metadata": {},
   "outputs": [],
   "source": [
    "from sklearn import datasets\n",
    "iris = datasets.load_iris()"
   ]
  },
  {
   "cell_type": "code",
   "execution_count": null,
   "metadata": {
    "scrolled": true
   },
   "outputs": [],
   "source": [
    "type(iris)"
   ]
  },
  {
   "cell_type": "markdown",
   "metadata": {},
   "source": [
    "Afin de stocker le jeu de données dans un dataFrame [pandas](http://pandas.pydata.org/), exécutez :"
   ]
  },
  {
   "cell_type": "code",
   "execution_count": null,
   "metadata": {
    "scrolled": true
   },
   "outputs": [],
   "source": [
    "import pandas as pd\n",
    "\n",
    "df = pd.DataFrame(iris['data'], columns=iris['feature_names'])\n",
    "df['target'] = iris['target']\n",
    "df.head()"
   ]
  },
  {
   "cell_type": "markdown",
   "metadata": {},
   "source": [
    "Dans la dernière colonne, les espèces *Setosa*, *Versicolour* et *Virginica* sont codées respectivement par 0, 1 et 2.\n",
    "\n",
    "On peut renommer les variables en chaînes sans espace pour pouvoir les manipuler directement à l'aide de la syntaxe `df.nomDeColonne` :"
   ]
  },
  {
   "cell_type": "code",
   "execution_count": null,
   "metadata": {},
   "outputs": [],
   "source": [
    "df.columns=(\"longueurSépale\",\"largeurSépale\", \"longueurPétale\", \"largeurPétale\", \"target\")\n",
    "df.head()"
   ]
  },
  {
   "cell_type": "markdown",
   "metadata": {},
   "source": [
    "#### Exercice\n",
    "\n",
    "Vérifiez les caractéristiques du dataFrame à l'aide de `shape`, `dtypes` et `count()` (voir notebook sur [VisuStats](https://gitlab.univ-nantes.fr/pigeau-a/peipMadoc2018/tree/master/VisuStats))."
   ]
  },
  {
   "cell_type": "code",
   "execution_count": null,
   "metadata": {},
   "outputs": [],
   "source": []
  },
  {
   "cell_type": "markdown",
   "metadata": {},
   "source": [
    "#### Exercice\n",
    "\n",
    "En vous aidant du notebook [VisuStats](https://gitlab.univ-nantes.fr/pigeau-a/peipMadoc2018/tree/master/VisuStats), faites l'analyse des 4 variables numériques (tableaux d'effectifs, histogrammes, boîtes à moustaches, indicateurs) et l'analyse de la variable catégorique `target` (tableau d'effectifs, diagramme en secteurs ou en barres)."
   ]
  },
  {
   "cell_type": "code",
   "execution_count": null,
   "metadata": {},
   "outputs": [],
   "source": []
  },
  {
   "cell_type": "markdown",
   "metadata": {},
   "source": [
    "# Modèle de classification"
   ]
  },
  {
   "cell_type": "markdown",
   "metadata": {},
   "source": [
    "Vous allez construire plusieurs modèles pour prédire/expliquer/reconnaître l'espèce à partir des autres variables. Pour construire un modèle prédictif, il faut appliquer un algorithme d'apprentissage supervisé. Vous trouverez dans la doc de [scikit-learn](https://scikit-learn.org/) une description des différents algorithmes pris en charge dans la bibliothèque et des fonctions correspondantes. Il existe des algorithmes pour prédire des variables cibles catégoriques (algorithmes de classification) et d'autres pour prédire des variables cibles numériques (algorithmes de régression). Dans le cas des données Iris, s'agit-il de classification ou de régression ?"
   ]
  },
  {
   "cell_type": "markdown",
   "metadata": {},
   "source": [
    "Dans la suite, nous illustrons sur un arbre de décision utiliser  ...  pour les diféfrents types de modèles ce sera les mêmes fonctions"
   ]
  },
  {
   "cell_type": "markdown",
   "metadata": {},
   "source": [
    "### Arbre de décision"
   ]
  },
  {
   "cell_type": "code",
   "execution_count": null,
   "metadata": {},
   "outputs": [],
   "source": [
    "from sklearn.tree import DecisionTreeClassifier\n",
    "\n",
    "model = DecisionTreeClassifier()"
   ]
  },
  {
   "cell_type": "markdown",
   "metadata": {},
   "source": [
    "Vous avez créé un modèle, mais pour le moment seul l'algorithme d'apprentissage a été spécifié, le modèle n'a pas encore été confronté aux données. Pour réaliser l'apprentissage du modèle à partir des données (on dit aussi ajuster le modèle aux données), on utilise la fonction `fit()`. Cette fonction prend en paramètres deux tableaux de données :\n",
    "- un tableau `y` qui contient uniquement la variable à prédire (cible)\n",
    "- un tableau `X` qui contient les variables utiles pour faire les prédictions sur y"
   ]
  },
  {
   "cell_type": "markdown",
   "metadata": {},
   "source": [
    "#### Exercice\n",
    "Sur les données Iris, construisez ces deux tableaux :"
   ]
  },
  {
   "cell_type": "code",
   "execution_count": null,
   "metadata": {},
   "outputs": [],
   "source": [
    "y=..."
   ]
  },
  {
   "cell_type": "code",
   "execution_count": null,
   "metadata": {},
   "outputs": [],
   "source": [
    "X=..."
   ]
  },
  {
   "cell_type": "markdown",
   "metadata": {},
   "source": [
    "Vous pouvez maintenant réaliser l'apprentissage :"
   ]
  },
  {
   "cell_type": "code",
   "execution_count": null,
   "metadata": {},
   "outputs": [],
   "source": [
    "model=model.fit(X, y)"
   ]
  },
  {
   "cell_type": "markdown",
   "metadata": {},
   "source": [
    "Remarquez que dans cet exemple simplifié, nous avons laissé tous les paramètres de l'algorithme d'apprentissage à leurs valeurs par défaut :"
   ]
  },
  {
   "cell_type": "code",
   "execution_count": null,
   "metadata": {
    "scrolled": false
   },
   "outputs": [],
   "source": [
    "model"
   ]
  },
  {
   "cell_type": "markdown",
   "metadata": {},
   "source": [
    "Vous pouvez obtenir les prédictions du modèle à l'aide de la fonction `predict()` :"
   ]
  },
  {
   "cell_type": "markdown",
   "metadata": {},
   "source": [
    "Vous allez maintenant utiliser le modèle pour prédire un nouvel individu (ici donc une fleur d'iris que vous allez imaginer). Commencez par décrire de nouveaux individus dans un dataFrame :"
   ]
  },
  {
   "cell_type": "code",
   "execution_count": null,
   "metadata": {},
   "outputs": [],
   "source": [
    "descriptionIndividus = {'longueurSépale': [3, 6], 'largeurSépale': [4, 3], 'longueurPétale': [2, 1.5], 'largeurPétale': [0.8, 2]}\n",
    "nouveauDataFrame = pd.DataFrame(data=descriptionIndividus)\n",
    "nouveauDataFrame"
   ]
  },
  {
   "cell_type": "code",
   "execution_count": null,
   "metadata": {},
   "outputs": [],
   "source": [
    "model.predict(nouveauDataFrame)"
   ]
  },
  {
   "cell_type": "markdown",
   "metadata": {},
   "source": [
    "#### Exercice\n",
    "\n",
    "Crééz un individu correspondant à la fleur d'iris moyenne de la classe 0, puis vérifiez que le modèle prédit bien la bonne classe pour cette fleur. Vérifiez également pour les autres classes."
   ]
  },
  {
   "cell_type": "code",
   "execution_count": null,
   "metadata": {},
   "outputs": [],
   "source": []
  },
  {
   "cell_type": "markdown",
   "metadata": {},
   "source": [
    "En projetant les données dans un espace (typiquement un plan), il est possible de visualiser les prédictions du modèles. Ci-dessous nous réduisons le jeu de données uniquement aux sépales, puis construisons le modèle et visualisons les \"surfaces de décision\" de l'arbre de décisions. "
   ]
  },
  {
   "cell_type": "code",
   "execution_count": null,
   "metadata": {},
   "outputs": [],
   "source": [
    "# Données\n",
    "colonnes=[0, 1]   #choix des deux premières colonnes (longueur et largeur des sépales)\n",
    "Xreduit=df.iloc[:,colonnes]\n",
    "y=df.iloc[:,4]\n",
    "\n",
    "# Construction du modèle sur les données réduites aux deux colonnes choisies\n",
    "modelReduit=DecisionTreeClassifier()\n",
    "modelReduit=modelReduit.fit(Xreduit, y)"
   ]
  },
  {
   "cell_type": "code",
   "execution_count": null,
   "metadata": {},
   "outputs": [],
   "source": [
    "import matplotlib.pyplot as plt\n",
    "import numpy as np\n",
    "\n",
    "# Changement de la taille par défaut pour tous les graphes :\n",
    "plt.rcParams[\"figure.figsize\"] = [10,10]\n",
    " \n",
    "# Parameters\n",
    "n_classes = 3\n",
    "plot_colors = \"ryb\"\n",
    "plot_step = 0.02\n",
    "\n",
    "\n",
    "x_min, x_max = Xreduit.iloc[:, 0].min() - 1, Xreduit.iloc[:, 0].max() + 1\n",
    "y_min, y_max = Xreduit.iloc[:, 1].min() - 1, Xreduit.iloc[:, 1].max() + 1\n",
    "xx, yy = np.meshgrid(np.arange(x_min, x_max, plot_step),\n",
    "                     np.arange(y_min, y_max, plot_step))\n",
    "plt.tight_layout(h_pad=0.5, w_pad=0.5, pad=2.5)\n",
    "\n",
    "Z = modelReduit.predict(np.c_[xx.ravel(), yy.ravel()])\n",
    "Z = Z.reshape(xx.shape)\n",
    "cs = plt.contourf(xx, yy, Z, cmap=plt.cm.RdYlBu)\n",
    "\n",
    "plt.xlabel(iris.feature_names[colonnes[0]])\n",
    "plt.ylabel(iris.feature_names[colonnes[1]])\n",
    "\n",
    "# Plot the training points\n",
    "for i, color in zip(range(n_classes), plot_colors):\n",
    "    idx = np.where(y == i)\n",
    "    plt.scatter(Xreduit.iloc[list(idx[0]),0], Xreduit.iloc[list(idx[0]),1], c=color, label=iris.target_names[i],\n",
    "                cmap=plt.cm.RdYlBu, edgecolor='black', s=25)\n",
    "\n",
    "plt.suptitle(\"Prédictions par arbre de décision\\n sur les iris décrits uniquement par les sépales (longueur et largeur)\", fontsize=16)\n",
    "plt.legend(loc='lower right', borderpad=0, handletextpad=0, fontsize=16)\n",
    "plt.axis(\"tight\")\n",
    "plt.show()"
   ]
  },
  {
   "cell_type": "markdown",
   "metadata": {},
   "source": [
    "#### Exercice\n",
    "\n",
    "Construisez un individu (une fleur d'iris) pour laquelle la prédiction du modèle (`modèleRéduit` ci-dessus) vous semble sujette à caution. Faites la prédiction."
   ]
  },
  {
   "cell_type": "code",
   "execution_count": null,
   "metadata": {},
   "outputs": [],
   "source": []
  },
  {
   "cell_type": "markdown",
   "metadata": {},
   "source": [
    "Un modèle ne sert à rien si l'on n'a pas une idée de ses performances. Revenons au modèle complet (construit sur toutes les données) pour l'évaluer."
   ]
  },
  {
   "cell_type": "code",
   "execution_count": null,
   "metadata": {},
   "outputs": [],
   "source": [
    "X=df.iloc[:,:4]\n",
    "y=df.iloc[:,4]\n",
    "model = DecisionTreeClassifier()\n",
    "model=model.fit(X, y)"
   ]
  },
  {
   "cell_type": "markdown",
   "metadata": {},
   "source": [
    "Vous pouvez obtenir le taux de réussite de modèle à l'aide de la fonction `score()` :"
   ]
  },
  {
   "cell_type": "code",
   "execution_count": null,
   "metadata": {
    "scrolled": false
   },
   "outputs": [],
   "source": [
    "model.score(X,y)"
   ]
  },
  {
   "cell_type": "markdown",
   "metadata": {},
   "source": [
    "#### Exercice\n",
    "1. Le modèle est-il bon ?\n",
    "2. Vérifiez ce taux de réussite en affichant les prédictions du modèle du les données complètes `X` avec `predict()`.\n",
    "3. Proposez une manière plus pertinente d'évaluer les performances du modèle."
   ]
  },
  {
   "cell_type": "code",
   "execution_count": null,
   "metadata": {},
   "outputs": [],
   "source": []
  },
  {
   "cell_type": "markdown",
   "metadata": {},
   "source": [
    "## Autres modèles de classification\n",
    "\n",
    "#### Exercice\n",
    "\n",
    "Essayez avec d'autres algorithmes comme les [k plus proches voisins](https://scikit-learn.org/stable/modules/generated/sklearn.neighbors.KNeighborsClassifier.html) et les [SVM](https://scikit-learn.org/stable/modules/generated/sklearn.svm.SVC.html). A chaque fois :\n",
    "1. construisez le modèle,\n",
    "2. donnez son taux de réussite sur un ensemble de test,\n",
    "3. faite le modèleRéduit (uniquement sur les sépales) et visualisez."
   ]
  },
  {
   "cell_type": "code",
   "execution_count": null,
   "metadata": {},
   "outputs": [],
   "source": []
  },
  {
   "cell_type": "markdown",
   "metadata": {},
   "source": [
    "# Modèle de Régression\n",
    "\n",
    "A la différence de la classification, qui permet de déterminer l'appartenance d'une donnée à un groupe, la régression permet de prédire la valeur d'une donnée continue :\n",
    "- la classification consiste à prédire une donnée discrète\n",
    "- la régression consiste à prédire une quantité continue \n",
    "\n",
    "Par exemple, la prédiction de la valeur d'un bien immobilier utilisera plutôt une méthode de régression qu'une méthode  classification.\n",
    "\n",
    "Dans cette partie, la colonne `target` n'est donc plus nécessaire."
   ]
  },
  {
   "cell_type": "markdown",
   "metadata": {},
   "source": [
    "#### Exercice\n",
    "\n",
    "1. supprimez la colonne `target` des données\n",
    "2. A l'aide des méthodes vues dans le notebook [VisuStats](https://gitlab.univ-nantes.fr/pigeau-a/peipMadoc2018/tree/master/VisuStats), recherchez les deux variables les plus corrélées dans le jeu de données.\n",
    "3. Essayez de prédire l'une à partir de l'autre avec la [régression linéaire](https://scikit-learn.org/stable/modules/generated/sklearn.linear_model.LinearRegression.html) et les [k plus proches voisins](https://scikit-learn.org/stable/modules/generated/sklearn.neighbors.KNeighborsRegressor.html)\n",
    "4. Utilisez `score()` pour évaluer les modèles"
   ]
  },
  {
   "cell_type": "code",
   "execution_count": null,
   "metadata": {},
   "outputs": [],
   "source": []
  },
  {
   "cell_type": "markdown",
   "metadata": {},
   "source": [
    "# Evaluation de modèle\n",
    "\n",
    "Pour le moment, nos modèles ont été évalués en utilisant le jeu de données qui a été utilisé pour construire le modèle. Mais dans la vraie vie, nous ne connaissons malheureuement pas en pratique les nouvelles données qui vont devoir être évaluées. Afin de mieux évaluer la qualité de nos modèle, il faut donc une méthode plus robuste de construction / évaluation. Nous proposons ici la méthode de __validation croisée__.\n",
    "\n",
    "L'apprentissage d'un modèle nécessite un ensemble de données d'apprentissages et un ensemble de données de test pour évaluer le modèle obtenu. Afin de vérifier que la méthode de génération du modèle est robuste dans le cas où il est utilisé sur de nouvelles données, il est nécessaire de l'évaluer plusieurs fois sur des données d'apprentissage / test différentes. La validation croisée est une méthode pour réaliser cette vérification.\n",
    "\n",
    "L'approche consiste à choisir aléatoirement X%, appelées __données d'apprentissage__, des données pour apprendre le modèle et (100% - X%) des données restantes, appelées __données de test__, pour évaluer le modèle. La prédiction du modèle est réalisée sur les données de test et un score de qualité est obtenu. En réalisant plusieurs fois le tirag aléatoire de données d'apprentissage et de test, on peut obtenir ainsi une moyenne du score sur un jeu de données. \n",
    "\n",
    "La validation croisée permet ainsi de dire que _sur ce jeu de données et avec notre modèle, nous obtenons en moyenne tel score de prédiction_. Nous limitons le risque d'avoir un score de prédiction très élevé mais obtenu simplement sur un jeu de données très précis. \n",
    "\n",
    "Pour conclure, nous tentons de garantir que notre modèle soit plus robuste, dans le cas où il recevra de nouvelles données.\n",
    "\n",
    "#### Exercice :\n",
    "1. documentez vous sur la [validation croisée](https://fr.wikipedia.org/wiki/Validation_crois%C3%A9e) et sur son implémentation dans la bibliothèque sklearn ([sklearn.model_selection.train_test_split](https://scikit-learn.org/stable/modules/generated/sklearn.model_selection.train_test_split.html)) \n",
    "2. reprenez les modèles testés précédemment et implémentez maintenant la méthode de validation croisée, en lançant 10 tests de 80% / 20% \n",
    "3. affichez la moyenne et la variance des scores obtenus\n",
    "4. est ce que la comparaison des modèles utilisez le précédent bloc de code pour comparer les différents modèles de prédiction\n"
   ]
  },
  {
   "cell_type": "code",
   "execution_count": null,
   "metadata": {
    "scrolled": true
   },
   "outputs": [],
   "source": [
    "from sklearn.model_selection import train_test_split\n",
    "\n",
    "# on divise les données entre ensemble de train (apprentissage) et ensemble de test\n",
    "X_train, X_test, y_train, y_test = train_test_split(X, y, test_size=0.3)\n",
    "\n",
    "# on construit le modèle sur l'ensemble de train\n",
    "model = ...   # ou : modele = DecisionTreeClassifier(min_samples_leaf=20)\n",
    "model = model.fit(X_train, y_train)\n",
    "\n",
    "# on évalue le modèle sur l'ensemble de test\n",
    "model.score(X_test, y_test)"
   ]
  },
  {
   "cell_type": "markdown",
   "metadata": {},
   "source": [
    "\n",
    "## Partie 2 - Projet Immobilier\n",
    "\n",
    "Pour les questions suivantes, un nouveau notebook doit être créé. \n",
    "\n",
    "#### Exercice :\n",
    "1. sélectionnez les variables vous semblant utiles pour la prédiction du prix d'une maison ou d'un appartement\n",
    "2. appliquez les méthodes de [régression linéaire](https://scikit-learn.org/stable/modules/generated/sklearn.linear_model.LinearRegression.html) ou les [k plus proches voisins](https://scikit-learn.org/stable/modules/generated/sklearn.neighbors.KNeighborsRegressor.html) sur les données immobilières (n'oubliez de faire l'évaluation via la validation croisée)\n",
    "3. documentez vous sur les modèles basés sur les [réseaux de neurones](https://scikit-learn.org/stable/modules/neural_networks_supervised.html) \n",
    "4. appliquez la méthode basée sur les réseaux de neurones\n",
    "5. testez les différents ensembles de variables d'apprentissages à utiliser pour la prédiction\n",
    "6. construisez, si cela n'est pas déjà fait, un modèle de prédiction commun pour les appartements et les maisons\n",
    "7. construisez, si cela n'est pas déjà fait, un modèle pour les appartements et un autre pour les maisons\n",
    "8. comparez les résultats de chaque modèle"
   ]
  },
  {
   "cell_type": "code",
   "execution_count": null,
   "metadata": {},
   "outputs": [],
   "source": []
  }
 ],
 "metadata": {
  "interpreter": {
   "hash": "850a1ba732b906bb71bd61ad1d2a306762afc994f1c8bd4bf410c158fec9481a"
  },
  "kernelspec": {
   "display_name": "Python 3.8.8 64-bit ('base': conda)",
   "name": "python3"
  },
  "language_info": {
   "codemirror_mode": {
    "name": "ipython",
    "version": 3
   },
   "file_extension": ".py",
   "mimetype": "text/x-python",
   "name": "python",
   "nbconvert_exporter": "python",
   "pygments_lexer": "ipython3",
   "version": "3.8.8"
  }
 },
 "nbformat": 4,
 "nbformat_minor": 2
}
