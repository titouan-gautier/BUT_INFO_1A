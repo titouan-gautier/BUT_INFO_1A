{
 "cells": [
  {
   "cell_type": "markdown",
   "metadata": {
    "collapsed": false
   },
   "source": [
    "# Objectif\n",
    "\n",
    "Dans ce notebook, nous allons introduire Jupyter, le langage Python et Jupyter Widget.\n",
    "\n",
    "## Partie 1 - Jupyter\n",
    "\n",
    "Commençons par un résumé wikipedia :\n",
    "\n",
    "`Jupyter est une application web utilisée pour programmer dans plus de 40 langages de programmation, dont Julia, Python, R, Ruby ou encore Scala1. Jupyter est une évolution du projet IPython. Jupyter permet de réaliser des notebooks, c'est-à-dire des programmes contenant à la fois du texte en markdown et du code en Julia, Python, R... Ces notebooks sont utilisés en science des données pour explorer et analyser des données.`\n",
    "\n",
    "Un notebook jupyter est donc une page web, composée de cellules, dont certaines sont du code exécutable et d'autres du texte.\n",
    "\n",
    "### Les cellules\n",
    "\n",
    "Le texte que vous êtes en train de lire est inséré dans une cellule de type texte, appelée une cellule $Markdown$.\n",
    "\n",
    "Le texte dans la cellule ci-dessous est par contre dans une cellule $Code$, contenant donc du code. Pour exécuter cette cellule, sélectionnez la et tapez le raccourci $Maj+Entrée$."
   ]
  },
  {
   "cell_type": "code",
   "execution_count": 0,
   "metadata": {
    "collapsed": false
   },
   "outputs": [
   ],
   "source": [
    "print(\"hello world\")"
   ]
  },
  {
   "cell_type": "markdown",
   "metadata": {
    "collapsed": false
   },
   "source": [
    "Une cellule de texte peut aussi être exécutée, afin d'afficher la mise en forme. Par exemple, double cliquez sur la première cellule de ce notebook. Vous devriez voir apparaitre le vrai texte brute de la cellule.\n",
    "\n",
    "Pour faire ré-apparaitre le texte mis en forme, exécutez la cellule : sélectionnez la et tapez le raccourci $Maj+Entrée$.\n",
    "\n",
    "### Modification\n",
    "\n",
    "Il est possible d'ajouter autant de cellules que vous le souhaitez dans vos notebook. Le plus simple pour réaliser cette action est d'utiliser les menus: $Insert > Cell \\ Above$ pour ajouter une nouvelle cellule au dessus de la cellule courante.\n",
    "\n",
    "Une fois la cellule ajoutée, vous devez choisir le type de la nouvelle cellule (par défaut, c'est une cellule $Code$). Pour changer le type d'une cellule, le menu peut encore être utilisé : $Cell > Cell \\ Type > Mardown$ pour obtenir une cellule de texte.\n",
    "\n",
    "Pour supprimer, couper, copier ou coller des cellules, voir le menu $Edit$.\n",
    "\n",
    "#### Exercice\n",
    "\n",
    "1. ajoutez deux cellules de code en dessous de cette cellule\n",
    "2. changez le code de la première pour avoir une cellule de texte\n",
    "3. ajoutez du code Python affichant \"Bonjour Monde\" dans la deuxième\n",
    "3. exécutez les cellules\n",
    "4. supprimez les cellules\n"
   ]
  },
  {
   "cell_type": "markdown",
   "metadata": {
    "collapsed": false
   },
   "source": [
    "### Raccourci\n",
    "\n",
    "Pour aller plus vite, il est important d'apprendre quelques raccourcis, à utiliser quand une cellule est sélectionnée (contour bleu) :\n",
    "- pour ajouter une cellule $Code$ en dessous de celle sélectionnée, tapez $B$\n",
    "- pour ajouter une cellule $Code$ au dessus de celle sélectionnée, tapez $A$\n",
    "- pour changer le type d'une cellule en $Markdown$, tapez $M$\n",
    "\n",
    "Tous les raccourcis sont disponibles dans le menu $Help > Keyboard\\ Shortcuts$.\n",
    "\n",
    "### Mise en forme d'une cellule de texte\n",
    "\n",
    "Une cellule $Markdown$ peut être mise en forme via des marqueurs de texte :\n",
    "- ```** gras **``` **gras**\n",
    "- ```_italique_``` _italique_\n",
    "- des formules mathématiques ```$E = mc^2$``` $E=mc^2$\n",
    "\n",
    "Des listes numérotées:\n",
    "1. en premièrement\n",
    "2. en deuxièmement \n",
    "\n",
    "Double cliquez sur cette cellule pour faire apparaitre le marqueur utilisé pour réaliser des listes numérotées.\n",
    "\n",
    "Pour organiser votre document, des sections sont possibles :\n",
    "```\n",
    "# Des titres\n",
    "## Des sous titres\n",
    "### Des sous sous titres\n",
    "#### Des sous sous sous titres\n",
    "##### Des sous sous sous sous titres\n",
    "###### Des sous sous sous sous sous titres\n",
    "```\n",
    "Et il est aussi possible d'ajouter des liens, des images, etc. Nous vous laisserons rechercher sur le web les autres possibilités.\n",
    "\n",
    "#### Exercice\n",
    "\n",
    "1. ajoutez une cellule de texte ci-dessous en utilisant les menus\n",
    "2. testez les différents marqueurs explicités ci-dessus\n",
    "3. exécutez la cellule pour faire apparaitre la mise en page\n",
    "4. ajoutez une autre cellule de texte ci-dessous, cette fois en utilisant les raccourcis clavier\n",
    "5. ajoutez quelques marqueurs\n",
    "5. exécutez cette cellule avec le raccourci clavier"
   ]
  },
  {
   "cell_type": "markdown",
   "metadata": {
    "collapsed": false
   },
   "source": [
    "## Partie 2 - Python\n",
    "\n",
    "Dans cette partie, nous allons faire une introduction au langage Python. Commençons par une définition Wikipedia :\n",
    "\n",
    "`Python est un langage de programmation objet interprété, multi-paradigme et multiplateformes. Il favorise la programmation impérative structurée, fonctionnelle et orientée objet. Il est doté d'un typage dynamique fort, d'une gestion automatique de la mémoire par ramasse-miettes et d'un système de gestion d'exceptions ; il est ainsi similaire à Perl, Ruby, Scheme, Smalltalk et Tcl.`\n",
    "\n",
    "`Le langage Python est placé sous une licence libre proche de la licence BSD4 et fonctionne sur la plupart des plates-formes informatiques, des supercalculateurs aux ordinateurs centraux5, de Windows à Unix avec notamment GNU/Linux en passant par macOS, ou encore Android, iOS, et aussi avec Java ou encore .NET. Il est conçu pour optimiser la productivité des programmeurs en offrant des outils de haut niveau et une syntaxe simple à utiliser.`\n",
    "\n",
    "Pour résumer, Python est un langage pouvant s'exécuter sur différents types de machines et est très simple à prendre en main.\n",
    "\n",
    "### Un petit exemple\n",
    "\n",
    "Voici un exemple :"
   ]
  },
  {
   "cell_type": "code",
   "execution_count": 1,
   "metadata": {
    "collapsed": false
   },
   "outputs": [
    {
     "name": "stdout",
     "output_type": "stream",
     "text": [
      "Calcul de 452 + 128 :\n",
      "Somme:  580\n"
     ]
    }
   ],
   "source": [
    "# Ceci est un commentaire et n'est pas exécuté par Python.\n",
    "# toute ligne commençant par '#' n'est pas exécutée par Python\n",
    "\n",
    "print(\"Calcul de 452 + 128 :\")\n",
    "\n",
    "x = 452\n",
    "y = 128\n",
    "\n",
    "z = x + y\n",
    "\n",
    "print(\"Somme: \", z)\n"
   ]
  },
  {
   "cell_type": "markdown",
   "metadata": {
    "collapsed": false
   },
   "source": [
    "Dans ce programme, nous avons créé deux variables x et y contenant chacune un entier. La variable `z` créée ensuite contient la somme de `x` et `y`. Enfin la résultat est affiché avec la fonction `print()`. La concaténation de deux chaînes de caractères se fait avec l'opérateur `+`. Et la transformation d'un entier en chaîne de caractères se fait avec la fonction `str()` (pour `String`).\n",
    "\n",
    "Mais comment Python a fait pour déterminer que `x` et `y` était des entiers ?\n",
    "\n",
    "Voici le même programme avec une légère différence sur `x` et `y` :"
   ]
  },
  {
   "cell_type": "code",
   "execution_count": 2,
   "metadata": {
    "collapsed": false
   },
   "outputs": [
    {
     "name": "stdout",
     "output_type": "stream",
     "text": [
      "Calcul de 452 + 128 :\n",
      "Somme:  580.0\n"
     ]
    }
   ],
   "source": [
    "'''\n",
    "Ceci est un autre moyen d'ajouter des commentaires, mais cette fois\n",
    "ci, il est possible d'écrire sur plusieurs lignes.\n",
    "'''\n",
    "\n",
    "print(\"Calcul de 452 + 128 :\")\n",
    "\n",
    "x = 451.5\n",
    "y = 128.5\n",
    "\n",
    "z = x + y\n",
    "\n",
    "print(\"Somme: \", z)"
   ]
  },
  {
   "cell_type": "markdown",
   "metadata": {
    "collapsed": false
   },
   "source": [
    "La somme est maintenant de `580.0` et non de `580`. Python a déterminé dynamiquement le type de `x` et `y`. Puisque `x` contient un nombre à virgule, alors `x` est un `float` (`float` est le type pour stocker des nombres non entier).\n",
    "\n",
    "### Quelques types de bases\n",
    "\n",
    "Le programmeur ne doit pas définir les types de ces variables mais Python les devine à l'exécution du programme. Voici quelques types utiles:\n",
    "- `int` : pour les entiers\n",
    "- `float` : pour les nombres à virgule\n",
    "- `str` : pour les chaînes de cartactères. En pratique, on créé des chaînes de caractères avec `\"\"`\n",
    "- `boolean` : True ou False\n",
    "\n",
    "#### Exercice\n",
    "\n",
    "1. dans la cellule ci-dessous, créez des variables de différents types\n",
    "2. utilisez la fonction `type()` prenant une variable en paramètre pour afficher son type"
   ]
  },
  {
   "cell_type": "code",
   "execution_count": 0,
   "metadata": {
    "collapsed": false
   },
   "outputs": [
   ],
   "source": [
   ]
  },
  {
   "cell_type": "markdown",
   "metadata": {
    "collapsed": false
   },
   "source": [
    "### Les instructions de contrôles\n",
    "\n",
    "Un programme Python est composé d'instructions de contrôle afin de faciliter l'écriture d'algorithme :\n",
    "- les boucles : `for`, `while`\n",
    "- les SiAlorsSinon : `if`, `else`, `elif`\n",
    "\n",
    "Quelques exemples :"
   ]
  },
  {
   "cell_type": "code",
   "execution_count": 3,
   "metadata": {
    "collapsed": false,
    "scrolled": true
   },
   "outputs": [
    {
     "name": "stdout",
     "output_type": "stream",
     "text": [
      "\n",
      "IfThenElse:\n",
      "\n",
      "je mets un short\n",
      "\n",
      "Boucle for:\n",
      "\n",
      "iteration numero: 0\n",
      "iteration numero: 1\n",
      "iteration numero: 2\n",
      "iteration numero: 3\n",
      "iteration numero: 4\n",
      "\n",
      "Boucle while:\n",
      "\n",
      "iteration numero: 0\n",
      "iteration numero: 1\n",
      "iteration numero: 2\n",
      "iteration numero: 3\n",
      "iteration numero: 4\n"
     ]
    }
   ],
   "source": [
    "temperature = 24\n",
    "\n",
    "print(\"\\nIfThenElse:\\n\")    \n",
    "\n",
    "if (temperature > 20):\n",
    "    print('je mets un short')\n",
    "else:\n",
    "    print('je mets un pull')\n",
    "\n",
    "print(\"\\nBoucle for:\\n\")    \n",
    "\n",
    "for i in range(0,5): # range(0, 5) renvoie une liste [0, 1, 2, 3, 4]\n",
    "    print(\"iteration numero:\", i)\n",
    "\n",
    "print(\"\\nBoucle while:\\n\")\n",
    "    \n",
    "i=0\n",
    "while( i < 5):\n",
    "    print(\"iteration numero:\", i)\n",
    "    i = i + 1"
   ]
  },
  {
   "cell_type": "markdown",
   "metadata": {
    "collapsed": false
   },
   "source": [
    "#### Exercice\n",
    "1. cherchez le raccourci pour faire apparaitre les numéros de ligne dans les cellule de code\n",
    "2. faites apparaitre les numéros de ligne dans la cellule ci-dessus \n",
    "\n",
    "Notez bien comment est organisé le code :\n",
    "- chaque instruction de contrôle contient ensuite un bloc de code, indenté avec le caractère tabulation. Ainsi, il est très facile de déterminer quand une instruction de contrôle commence et quand elle se termine\n",
    "- par exemple, le bloc `if` commence à la 5 et se termine à la ligne 8 (inclus)\n",
    "- autre exemple, le bloc `for` commence à la 12 et se termine à la ligne 13 (inclus)\n",
    "- encore autre exemple, le bloc `while` commence à la 17 et se termine à la ligne 20 (inclus)\n",
    "- toute indentation indique d'une ligne indique qu'elle appartient à un bloc. Quand un programme rentre dans un bloc de code, il exécute tout ce qui se trouve dans le bloc. \n",
    "\n",
    "\n",
    "#### Exercice\n",
    "\n",
    "1. écrivez un programme définissant une variable entière et affichant \"nombre pair\" si la variable est pair, et \"nombre impair\" sinon\n",
    "2. écrivez un programme affichant :<br>\n",
    "&&&<br>\n",
    "&&&<br>\n",
    "&&&<br>\n",
    "\n",
    "3. écrivez un programme affichant :<br>\n",
    "&<br>\n",
    "&&<br>\n",
    "&&&<br>\n",
    "&&&&<br>"
   ]
  },
  {
   "cell_type": "code",
   "execution_count": 0,
   "metadata": {
    "collapsed": false
   },
   "outputs": [
   ],
   "source": [
    "# question 1"
   ]
  },
  {
   "cell_type": "code",
   "execution_count": 0,
   "metadata": {
    "collapsed": false
   },
   "outputs": [
   ],
   "source": [
    "# question 2"
   ]
  },
  {
   "cell_type": "code",
   "execution_count": 0,
   "metadata": {
    "collapsed": false
   },
   "outputs": [
   ],
   "source": [
    "# question 3"
   ]
  },
  {
   "cell_type": "markdown",
   "metadata": {
    "collapsed": false
   },
   "source": [
    "### Les fonctions\n",
    "\n",
    "Quand du code doit être ré-écrit plusieurs fois, il est plus simple de créer une fonction contenant ce code. Ainsi, pour exécuter ce code, il suffit d'appeler la fonction.\n",
    "\n",
    "Exemple :"
   ]
  },
  {
   "cell_type": "code",
   "execution_count": 0,
   "metadata": {
    "collapsed": false
   },
   "outputs": [
   ],
   "source": [
    "# résolution d'un équation du second degré\n",
    "# ax2 + bx + c = 0\n",
    "\n",
    "import math\n",
    "\n",
    "def calculDeterminant(a, b, c):\n",
    "    \n",
    "    det = b*b - 4 * a * c\n",
    "    \n",
    "    return det\n",
    "\n",
    "a = 5\n",
    "b = 7\n",
    "c = 4\n",
    "\n",
    "det = calculDeterminant(a, b, c)\n",
    "\n",
    "print(\"det=\", det)\n",
    "print(\"ou plus court, det=\", calculDeterminant(a, b, c))"
   ]
  },
  {
   "cell_type": "markdown",
   "metadata": {
    "collapsed": false
   },
   "source": [
    "Notez encore une fois, qu'une fonction a un bloc, indenté par le caractère tabulation. Le bloc de la fonction `calculDeterminant` commence à la ligne 4 et termine à la ligne 8 (inclus). \n",
    "\n",
    "Les variables définies dans un bloc ne sont visibles que dans ce bloc. Ainsi, dans ce programme, nous avons deux variables nommées `det` mais qui ne sont pas les mêmes. Celle déclarée ligne 6 est créée quand la fonction `calculDet` est exécutée et est détruite à la fin de l'exécution de la fonction.\n",
    "\n",
    "#### Exercice :\n",
    "\n",
    "1. dans la cellule de code suivante, importez la bibliothèque `math`. Elle sera utile pour accéder à la fonction racine carrée `math.sqrt()`\n",
    "2. écrire une fonction prenant en paramètre `a`, `b` et `c` et affichant les solutions de l'équation $ax^2 + bx + c =0$. Il sera nécessaire de ré-utiliser la fonction `calculDeterminant(a, b, c)`"
   ]
  },
  {
   "cell_type": "code",
   "execution_count": 0,
   "metadata": {
    "collapsed": false
   },
   "outputs": [
   ],
   "source": [
   ]
  },
  {
   "cell_type": "markdown",
   "metadata": {
    "collapsed": false
   },
   "source": [
    "### Les structures de données\n",
    "\n",
    "Python fournit plusieurs structures de données pour gérer facilement des listes de valeurs: les listes, les tuples et les dictionnaires.\n",
    "\n",
    "Une liste est un tableau pouvant contenir des valeurs/variables, où les éléments sont indexés par un indice entier. Une liste peut être **modifiée**, en ajoutant et supprimant des éléments.\n",
    "\n",
    "Par exemple :"
   ]
  },
  {
   "cell_type": "code",
   "execution_count": 4,
   "metadata": {
    "collapsed": false
   },
   "outputs": [
    {
     "name": "stdout",
     "output_type": "stream",
     "text": [
      "[]\n",
      "[4]\n",
      "[4, 'c']\n",
      "c\n",
      "len() permet d'obtenir la longueur d'une liste:  2\n",
      "[4, 45.258, 'c']\n",
      "['c', 45.258, 4]\n",
      "['c', 45.258, 4, 'voiture']\n",
      "[45.258, 4, 'voiture']\n",
      "['c', 45.258, 4, 'c', 45.258, 4]\n"
     ]
    }
   ],
   "source": [
    "# création d'une liste de deux manières différentes\n",
    "l1 = []\n",
    "l1 = list()\n",
    "l2 = []\n",
    "\n",
    "print(l1)\n",
    "\n",
    "l1.append(4)\n",
    "\n",
    "print(l1)\n",
    "\n",
    "l1.append('c')\n",
    "\n",
    "print(l1)\n",
    "\n",
    "print(l1[1])\n",
    "\n",
    "print(\"len() permet d'obtenir la longueur d'une liste: \", len(l1))\n",
    "\n",
    "l1.insert(1, 45.258)\n",
    "\n",
    "print(l1)\n",
    "\n",
    "l1.reverse()\n",
    "\n",
    "print(l1)\n",
    "\n",
    "l2.append(\"voiture\")\n",
    "\n",
    "l2 = l1 + l2\n",
    "\n",
    "print(l2)\n",
    "\n",
    "del l2[0]\n",
    "\n",
    "print(l2)\n",
    "\n",
    "print(l1*2)"
   ]
  },
  {
   "cell_type": "markdown",
   "metadata": {
    "collapsed": false
   },
   "source": [
    "Les tuples sont des séquences de valeurs/variables immuables. On ne peut donc **pas** les **modifier**. L'accès à un élément d'un tuple se fait aussi via son indices. Les tuples sont très pratiques pour les fonctions : si vous avez besoin de retourner plusieurs valeurs/variables, vous pouvez le faire via un tuple.\n",
    "\n",
    "Par exemple :"
   ]
  },
  {
   "cell_type": "code",
   "execution_count": 0,
   "metadata": {
    "collapsed": false
   },
   "outputs": [
   ],
   "source": [
    "\n",
    "t1 = tuple(['a', 'b', 456])\n",
    "t1 = ('a', 'b', 456)\n",
    "t2 = (1, 35.4, \"kljlj\")\n",
    "\n",
    "print(t1+t2)\n",
    "\n",
    "t3 = t1*2\n",
    "\n",
    "print(t3)\n",
    "print(len(t3))\n",
    "print(t1[2])"
   ]
  },
  {
   "cell_type": "markdown",
   "metadata": {
    "collapsed": false
   },
   "source": [
    "Finalement, un dictionnaire contient des variables/valeurs indéxées par des clés. Un dictionnaire est modifiable.\n",
    "\n",
    "Par exemple :"
   ]
  },
  {
   "cell_type": "code",
   "execution_count": 0,
   "metadata": {
    "collapsed": false
   },
   "outputs": [
   ],
   "source": [
    "d1 = dict()\n",
    "d1 = {\"p002\": 45, \"p001\":78, \"p0015\":159}\n",
    "\n",
    "print(d1)\n",
    "\n",
    "print(d1[\"p002\"])\n",
    "\n",
    "d1[\"p0125\"] = 4\n",
    "\n",
    "print(d1)\n",
    "\n",
    "del d1[\"p0125\"]\n",
    "\n",
    "print(d1)"
   ]
  },
  {
   "cell_type": "markdown",
   "metadata": {
    "collapsed": false
   },
   "source": [
    "#### Exercice\n",
    "\n",
    "1. commentez les exemples précédents sur les listes, tuples et dictionnaires (ajoutez des commentaires indiquant ce qui est réalisé sur les structures de données)\n",
    "2. recherchez des informations sur le \"slice operator\"\n",
    "3. recherchez de l'information sur la fonction `range()`\n",
    "4. écrivez un programme créant une liste contenant tous les nombres pairs entre 1 et 100\n",
    "5. affichez le nombre d'éléments dans cette liste\n",
    "\n"
   ]
  },
  {
   "cell_type": "code",
   "execution_count": 0,
   "metadata": {
    "collapsed": false
   },
   "outputs": [
   ],
   "source": [
   ]
  },
  {
   "cell_type": "markdown",
   "metadata": {
    "collapsed": false
   },
   "source": [
    "#### Exercice\n",
    "\n",
    "6. modifiez votre fonction de calcul de solutions d'équation du second degré en retournant maintenant directement les solutions dans un tuple (et testez votre nouvelle fonction)"
   ]
  },
  {
   "cell_type": "code",
   "execution_count": 0,
   "metadata": {
    "collapsed": false
   },
   "outputs": [
   ],
   "source": [
   ]
  },
  {
   "cell_type": "markdown",
   "metadata": {
    "collapsed": false
   },
   "source": [
    "#### Exercice\n",
    "\n",
    "1. créez un dictionnaire contenant comme clé/valeur les mois de l'année avec leur nombre de jours.\n",
    "2. implémentez une fonction affichant tous les mois de l'année avec leur nombre de jours (d'une manière plus conviviale que l'affichage brute d'un dictionnaire)\n",
    "3. ajoutez dans le dictionnaire la clé \"févrierBissextile\" et la valeur '29'.\n",
    "4. affichez une deuxième fois votre dictionnaire"
   ]
  },
  {
   "cell_type": "markdown",
   "metadata": {
    "collapsed": false
   },
   "source": [
    "## Partie 3 - Jupyter widget\n",
    "\n",
    "### Un peu d'interactivité\n",
    "\n",
    "La bibliothèque _ipywidgets_ permet d'introduire de l'interactivité entre un notebook et un utilisateur. Les visualisations générées dans votre notebook peuvent ainsi être plus dynamiques. Par exemple, via un composant graphique (_widget_ en anglais), l'utilisateur rentre le nom du cours sur lequel il veut visualiser des indicateurs et le notebook se met à jour.\n",
    "\n",
    "La première étape est d'inclure les bibliothèques nécessaires. Exécutez le code suivant:"
   ]
  },
  {
   "cell_type": "code",
   "execution_count": 1,
   "metadata": {
    "collapsed": false
   },
   "outputs": [
   ],
   "source": [
    "from ipywidgets import widgets\n",
    "from IPython.display import display\n",
    "from ipywidgets import interact, interactive, fixed, interact_manual, IntSlider"
   ]
  },
  {
   "cell_type": "markdown",
   "metadata": {
    "collapsed": false
   },
   "source": [
    "#### Text\n",
    "\n",
    "Voici un exemple pour demander à un utilisateur de rentrer du texte. Exécutez le code ci-dessous, rentrez du texte et cliquez sur _return_."
   ]
  },
  {
   "cell_type": "code",
   "execution_count": 9,
   "metadata": {
    "collapsed": false
   },
   "outputs": [
    {
     "data": {
      "application/vnd.jupyter.widget-view+json": {
       "model_id": "0866bd5c18664d6590d483b06e0cfaf1",
       "version_major": 2,
       "version_minor": 0
      },
      "text/plain": [
       "Text(value='')"
      ]
     },
     "execution_count": 9,
     "metadata": {
     },
     "output_type": "execute_result"
    },
    {
     "data": {
      "application/vnd.jupyter.widget-view+json": {
       "model_id": "d27f5aab0ed248db80b6b5c3396b63c5",
       "version_major": 2,
       "version_minor": 0
      },
      "text/plain": [
       "Output()"
      ]
     },
     "execution_count": 9,
     "metadata": {
     },
     "output_type": "execute_result"
    }
   ],
   "source": [
    "widget = widgets.Text() # création du composant graphique\n",
    "output = widgets.Output()\n",
    "display(widget, output)\n",
    "\n",
    "def action(sender): # fonction qui sera exécutée quand l'utilisateur clique sur \"return\"\n",
    "    with output:\n",
    "        print(widget.value)\n",
    "\n",
    "widget.on_submit(action) # lien entre le clique sur \"return\" et la fonction a appeler "
   ]
  },
  {
   "cell_type": "markdown",
   "metadata": {
    "collapsed": false
   },
   "source": [
    "L'utilisation d'un composant graphique de type texte peut permettre à un utilisateur de rentrer une valeur et de stocker ensuite cette valeur dans une variable. Par exemple, le nom d'un cours pour afficher les indicateurs sur ce cours.\n",
    "\n",
    "#### Bouton\n",
    "\n",
    "Voici un exemple pour générer un bouton."
   ]
  },
  {
   "cell_type": "code",
   "execution_count": 11,
   "metadata": {
    "collapsed": false
   },
   "outputs": [
    {
     "data": {
      "application/vnd.jupyter.widget-view+json": {
       "model_id": "22441be98cec4c33b556f53eceddb900",
       "version_major": 2,
       "version_minor": 0
      },
      "text/plain": [
       "Button(description='Ok', style=ButtonStyle())"
      ]
     },
     "execution_count": 11,
     "metadata": {
     },
     "output_type": "execute_result"
    },
    {
     "data": {
      "application/vnd.jupyter.widget-view+json": {
       "model_id": "9800e687dd764b78af3548db52c95e7b",
       "version_major": 2,
       "version_minor": 0
      },
      "text/plain": [
       "Output()"
      ]
     },
     "execution_count": 11,
     "metadata": {
     },
     "output_type": "execute_result"
    }
   ],
   "source": [
    "widget = widgets.Button(description=\"Ok\") # création du composant graphique\n",
    "output = widgets.Output()\n",
    "display(widget, output) # affichage du composant graphique\n",
    "\n",
    "def action(sender): # fonction qui sera exécutée quand l'utilisateur clique sur \"return\"\n",
    "    with output:\n",
    "        print(\"Faire un traitement dans cette fonction\")\n",
    "    \n",
    "widget.on_click(action) # lien entre le clique sur \"return\" et la fonction a appeler "
   ]
  },
  {
   "cell_type": "markdown",
   "metadata": {
    "collapsed": false
   },
   "source": [
    "#### Interact\n",
    "\n",
    "Génération d'un composant graphique en fonction d'un paramètre. Quand un entier est passé en paramètre, un slider est généré."
   ]
  },
  {
   "cell_type": "code",
   "execution_count": 12,
   "metadata": {
    "collapsed": false
   },
   "outputs": [
    {
     "data": {
      "application/vnd.jupyter.widget-view+json": {
       "model_id": "14a6d8ab0ca84223b07c1d1e099b930f",
       "version_major": 2,
       "version_minor": 0
      },
      "text/plain": [
       "interactive(children=(IntSlider(value=10, description='x', max=30, min=-10), Output()), _dom_classes=('widget-…"
      ]
     },
     "execution_count": 12,
     "metadata": {
     },
     "output_type": "execute_result"
    },
    {
     "data": {
      "text/plain": [
       "<function __main__.action(x)>"
      ]
     },
     "execution_count": 12,
     "metadata": {
     },
     "output_type": "execute_result"
    }
   ],
   "source": [
    "def action(x): # fonction appelée pour chaque changement sur le composant graphique\n",
    "    print(x)\n",
    "    \n",
    "interact(action, x=10)"
   ]
  },
  {
   "cell_type": "markdown",
   "metadata": {
    "collapsed": false
   },
   "source": [
    "#### Exercice\n",
    "\n",
    "1. testez `interact()` en passant un booléen en paramètre\n",
    "2. dans l'action, faites en sorte d'afficher \"il fait beau\" si le booléen est mis à vrai, \"il fait pas beau\" sinon\n",
    "3. testez `interact()` en passant une chaîne de caractères\n",
    "4. dans l'action, faites en sorte d'afficher la chaine de caractères saisie par l'utilisation"
   ]
  },
  {
   "cell_type": "code",
   "execution_count": 0,
   "metadata": {
    "collapsed": false
   },
   "outputs": [
   ],
   "source": [
    "# question 1-2\n"
   ]
  },
  {
   "cell_type": "code",
   "execution_count": 0,
   "metadata": {
    "collapsed": false
   },
   "outputs": [
   ],
   "source": [
    "#questions 3-4\n"
   ]
  },
  {
   "cell_type": "markdown",
   "metadata": {
    "collapsed": false
   },
   "source": [
    "#### Slider\n",
    "\n",
    "Pour générer un slider:"
   ]
  },
  {
   "cell_type": "code",
   "execution_count": 13,
   "metadata": {
    "collapsed": false
   },
   "outputs": [
    {
     "data": {
      "application/vnd.jupyter.widget-view+json": {
       "model_id": "5dc9c8f9a4ef4aefba8faa8995c1eaf9",
       "version_major": 2,
       "version_minor": 0
      },
      "text/plain": [
       "interactive(children=(IntSlider(value=10, description='x', max=30, min=-10), Output()), _dom_classes=('widget-…"
      ]
     },
     "execution_count": 13,
     "metadata": {
     },
     "output_type": "execute_result"
    },
    {
     "data": {
      "text/plain": [
       "<function __main__.action(x)>"
      ]
     },
     "execution_count": 13,
     "metadata": {
     },
     "output_type": "execute_result"
    }
   ],
   "source": [
    "widget = IntSlider(min=-10,max=30,step=1,value=10)\n",
    "\n",
    "def action(x):\n",
    "    print(x)\n",
    "\n",
    "interact(action, x=widget)"
   ]
  },
  {
   "cell_type": "markdown",
   "metadata": {
    "collapsed": false
   },
   "source": [
    "En pratique, cette interactivité pourra être utilisée dans vos notebooks pour demander un paramètre à l'utilisateur et réaliser un affichage dans la fonction _action_ liée à votre composant graphique.\n",
    "\n",
    "Par exemple, exécutez le code suivant, qui permet de modifier le coefficient directeur et l'ordonnée à l'origine d'une fonction affine (une fonction linéaire est de type $y = ax$ et une fonction affine de type $y = ax + b$). Il n'est pas demandé ici de comprendre le code."
   ]
  },
  {
   "cell_type": "code",
   "execution_count": 14,
   "metadata": {
    "collapsed": false
   },
   "outputs": [
    {
     "data": {
      "application/vnd.jupyter.widget-view+json": {
       "model_id": "31818db26799409fa50c6ec2d77e90cb",
       "version_major": 2,
       "version_minor": 0
      },
      "text/plain": [
       "interactive(children=(FloatSlider(value=0.0, description='m', max=2.0, min=-2.0), FloatSlider(value=0.0, descr…"
      ]
     },
     "execution_count": 14,
     "metadata": {
     },
     "output_type": "execute_result"
    }
   ],
   "source": [
    "%matplotlib inline\n",
    "from ipywidgets import interactive\n",
    "import matplotlib.pyplot as plt\n",
    "import numpy as np\n",
    "\n",
    "def f(m, b):\n",
    "    plt.figure(2)\n",
    "    x = np.linspace(-10, 10, num=1000)\n",
    "    plt.plot(x, m * x + b)\n",
    "    plt.ylim(-5, 5)\n",
    "    plt.show()\n",
    "\n",
    "interactive_plot = interactive(f, m=(-2.0, 2.0), b=(-3, 3, 0.5))\n",
    "output = interactive_plot.children[-1]\n",
    "output.layout.height = '350px'\n",
    "#interactive_plot\n",
    "display(interactive_plot)"
   ]
  },
  {
   "cell_type": "code",
   "execution_count": 0,
   "metadata": {
    "collapsed": false
   },
   "outputs": [
   ],
   "source": [
   ]
  }
 ],
 "metadata": {
  "kernelspec": {
   "display_name": "Python 3 (Ubuntu Linux)",
   "language": "python",
   "name": "python3-ubuntu",
   "resource_dir": "/usr/local/share/jupyter/kernels/python3-ubuntu"
  },
  "language_info": {
   "codemirror_mode": {
    "name": "ipython",
    "version": 3
   },
   "file_extension": ".py",
   "mimetype": "text/x-python",
   "name": "python",
   "nbconvert_exporter": "python",
   "pygments_lexer": "ipython3",
   "version": "3.8.10"
  },
  "toc": {
   "base_numbering": 1,
   "nav_menu": {
   },
   "number_sections": true,
   "sideBar": true,
   "skip_h1_title": false,
   "title_cell": "Table of Contents",
   "title_sidebar": "Contents",
   "toc_cell": false,
   "toc_position": {
   },
   "toc_section_display": true,
   "toc_window_display": true
  }
 },
 "nbformat": 4,
 "nbformat_minor": 4
}