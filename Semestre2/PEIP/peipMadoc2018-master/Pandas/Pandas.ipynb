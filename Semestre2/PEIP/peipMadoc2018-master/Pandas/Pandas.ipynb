{
 "cells": [
  {
   "cell_type": "markdown",
   "source": [
    "## Objectif & Plan\n",
    "\n",
    "Pandas est une bibliothèque permettant de manipuler et analyser des données. L'objectif de cette première séance est de vous familiariser avec cet outil et de découvrir les données Madoc sur lesquelles vous allez travailler.\n",
    "\n",
    "Dans la première partie de ce notebook, nous commençons par vour présenter quelques commandes Pandas. Dans la deuxième partie, vous devrez appliquer ces commandes sur les données Madoc. Votre travail de Data Scientist commence donc dès maintenant.\n",
    "\n",
    "La première étape est d'importer les bibliothèques utiles pour le projet. Ici nous importons la bibliothèques Pandas, en la renommant 'pd' afin de faciliter son utilisation ('pd' car c'est le raccourci utilisé sur tous les tutoriels publiés sur le web).\n",
    "\n",
    "Pour exécuter le code d'un bloc d'un notebook jupyter, cliquer sur le bloc et taper la combinaison de touche $Maj+entrée$."
   ],
   "metadata": {}
  },
  {
   "cell_type": "code",
   "execution_count": null,
   "source": [
    "import pandas as pd"
   ],
   "outputs": [],
   "metadata": {}
  },
  {
   "cell_type": "markdown",
   "source": [
    "## Partie 1 - introduction à Pandas\n",
    "\n",
    "### 1.Lire un fichier CSV\n",
    "\n",
    "La première étape est de charger les données. Nous allons tout d'abord travailler sur un exemple simple, ressemblant (de loin) aux vraies données Madoc.\n",
    "\n",
    "Deux fichiers sont disponibles pour cet exemple: un fichier contenant les traces des étudiants et un fichier contenant leurs notes.\n",
    "\n",
    "La fonction `read_csv` de Pandas permet de lire un fichier csv. Elle est appelée en tapant `pd.read_csv(...)`, qui se lit \"j'appelle la fonction `read_csv(...)` de Pandas\". L'opérateur `.` permet d'accéder à une fonction dans un module python. \n",
    "Un $module$ python est en pratique un fichier contenant du code python.\n",
    "\n",
    "La fonction `read_csv()` retourne un data frame Pandas. Un data frame est un tableau composé de colonnes et de lignes.\n",
    "\n",
    "Exécutez les blocs suivants pour charger les données. "
   ],
   "metadata": {}
  },
  {
   "cell_type": "code",
   "execution_count": null,
   "source": [
    "dataTraces = pd.read_csv('./data/traces.csv', sep=',')\r\n",
    "\r\n",
    "dataTraces.head()\r\n",
    "\r\n",
    "dataTraces.head()"
   ],
   "outputs": [],
   "metadata": {}
  },
  {
   "cell_type": "markdown",
   "source": [
    "Le fichier traces.csv contient donc des lignes représentant chacune un **événement** d'utilisateurs. La première ligne indique que l'utilisateur $1$, appelé $Antoine$, a accédé à la ressource numéro $100$ du cours $Programmation\\ objet$.\n",
    "\n",
    "La fonction `head()` de Pandas permet d'afficher les premières lignes du tableau.\n",
    "\n",
    "#### Exercice\n",
    "\n",
    "Complétez le bloc suivant pour charger maintenant le fichier 'data/notes.csv' contenant les notes des étudiants."
   ],
   "metadata": {}
  },
  {
   "cell_type": "code",
   "execution_count": null,
   "source": [
    "# chargez le fichier data/notes.csv et affichez les premières lignes du tableau\r\n",
    "dataNotes = #######\r\n",
    "\r\n",
    "# affichage des premieres lignes - 1 lignes de codes\r\n"
   ],
   "outputs": [],
   "metadata": {}
  },
  {
   "cell_type": "markdown",
   "source": [
    "### 2. Sélection de lignes et de colonnes\n",
    "\n",
    "Voici un exemple de code pour sélectionner une colonne dans le data frame 'dataTraces'.\n",
    "\n",
    "Exécutez le code pour que le résultat s'affiche :\n",
    "1. sélectionnez la cellule\n",
    "2. tapez la combinaison de touche $Maj + Entrée$."
   ],
   "metadata": {}
  },
  {
   "cell_type": "code",
   "execution_count": null,
   "source": [
    "dataTraces['idUser']\r\n"
   ],
   "outputs": [],
   "metadata": {
    "scrolled": false
   }
  },
  {
   "cell_type": "markdown",
   "source": [
    "La première colonne de l'affichage correspond à l'index. Un index permet d'identifier de manière unique une ligne de votre tableau. L'index par défaut est une liste d'entier, numérotant vos lignes. Il est aussi possible d'utiliser un index à partir d'une colonne de votre fichier csv (à partir du moment où chaque valeur de cette colonne est unique).\n",
    "\n",
    "Exemple de sélection de plusieurs colonnes : "
   ],
   "metadata": {}
  },
  {
   "cell_type": "code",
   "execution_count": null,
   "source": [
    "dataTraces[['idUser', 'cours']]"
   ],
   "outputs": [],
   "metadata": {}
  },
  {
   "cell_type": "markdown",
   "source": [
    "Voici un exemple de sélection de lignes :"
   ],
   "metadata": {}
  },
  {
   "cell_type": "code",
   "execution_count": null,
   "source": [
    "dataTraces[1:2]"
   ],
   "outputs": [],
   "metadata": {}
  },
  {
   "cell_type": "markdown",
   "source": [
    "Dans cette exemple, la sélection se fait via l'opérateur $slice$. Cet opérateur à la forme suivante: `a:b:c`, où `a` représente le numéro de l'élément de début, `b` le numéro de l'élément de fin non inclus et `c` représente le pas d'avancement pour aller de `a` à `b`. Par défaut, `c` est initialisé à `1`. Ainsi dans cette exemple, nous allons de la ligne $1$ à $2-1$, ce qui revient à sélectionner la ligne d'index `1`.\n",
    "\n",
    "Voici un exemple de sélection de plusieurs lignes :"
   ],
   "metadata": {}
  },
  {
   "cell_type": "code",
   "execution_count": null,
   "source": [
    "dataTraces[0:4]"
   ],
   "outputs": [],
   "metadata": {}
  },
  {
   "cell_type": "markdown",
   "source": [
    "La selection peut aussi se faire via l'accès à `iloc`, en donnant un tableau d'index de ligne :"
   ],
   "metadata": {}
  },
  {
   "cell_type": "code",
   "execution_count": null,
   "source": [
    "dataTraces.iloc[[0, 3, 5]]"
   ],
   "outputs": [],
   "metadata": {}
  },
  {
   "cell_type": "markdown",
   "source": [
    "La fonction `iloc` prend des indices sous formes d'entier, correspondant aux numéros de lignes de votre tableau et aux numéros des colonnes.\n",
    "\n",
    "Voici quelques exemples d'utilisation de `iloc`:"
   ],
   "metadata": {}
  },
  {
   "cell_type": "code",
   "execution_count": null,
   "source": [
    "print(\"\\nPremière ligne:\")\r\n",
    "print(dataTraces.iloc[0])\r\n",
    "\r\n",
    "print(\"\\nPremière ligne, pareil que le précédent mais en indiquant qu'on sélectionne toutes les colonnes:\")\r\n",
    "print(dataTraces.iloc[0, :])\r\n",
    "\r\n",
    "print(\"\\nPremière ligne et deuxième colonne:\")\r\n",
    "print(dataTraces.iloc[0, 2])"
   ],
   "outputs": [],
   "metadata": {}
  },
  {
   "cell_type": "markdown",
   "source": [
    "Une fonction similaire, nommée `loc` prend en paramètre les valeurs de l'index et le nom des colonnes :"
   ],
   "metadata": {}
  },
  {
   "cell_type": "code",
   "execution_count": null,
   "source": [
    "print(\"Sélection des index 2 à 4 (inclus...) et de la colonne \\'nom\\':\")\r\n",
    "print(dataTraces.loc[2:4, 'nom'])\r\n",
    "\r\n",
    "print(\"\\nSélection de toutes les valeurs d'index et des colonnes \\'nom\\' et \\'ressource\\' :\")\r\n",
    "print(dataTraces.loc[0:, ['nom', 'ressource']])"
   ],
   "outputs": [],
   "metadata": {}
  },
  {
   "cell_type": "markdown",
   "source": [
    "Il est aussi possible de sélectionner les lignes contenant certaines valeurs :"
   ],
   "metadata": {}
  },
  {
   "cell_type": "code",
   "execution_count": null,
   "source": [
    "dataTraces[dataTraces['nom'] == 'Antoine']"
   ],
   "outputs": [],
   "metadata": {}
  },
  {
   "cell_type": "markdown",
   "source": [
    "Pour construire des formules booléennes, il faut utiliser les opérateurs `&` et `|` pour respectivement le \"et\" et le \"ou\".\n",
    "\n",
    "Ici un exemple de sélection des lignes contenant \"Antoine\", avec un numéro de ressource supérieur à 150:"
   ],
   "metadata": {}
  },
  {
   "cell_type": "code",
   "execution_count": null,
   "source": [
    "dataTraces[(dataTraces['nom'] == 'Antoine') & (dataTraces['ressource']>150)]"
   ],
   "outputs": [],
   "metadata": {}
  },
  {
   "cell_type": "markdown",
   "source": [
    "#### Exercice\n",
    "\n",
    "Réalisez les sélections suivantes sur le data frame dataNotes\n",
    "\n",
    "1. sélectionnez les colonnes `cours` et `notes` du data frame `dataNotes`\n",
    "2. sélectionnez les deux dernières lignes du data frame `dataNotes`\n",
    "3. sélectionnez les lignes 2 et 3 sur les colonnes `notes` et `idUser`\n",
    "4. sélectionnez toutes les lignes ayant un index pair\n",
    "5. sélectionnez les lignes du data frame `dataNotes` ayant des notes supérieure à 15 (l'opérateur > ou < est ici à utiliser)\n",
    "6. sélectionner les lignes du data frame `dataNotes` ayant des notes supérieure à 10 pour le cours de _Programmation Objet_"
   ],
   "metadata": {}
  },
  {
   "cell_type": "code",
   "execution_count": null,
   "source": [
    "# réponse question 1"
   ],
   "outputs": [],
   "metadata": {}
  },
  {
   "cell_type": "code",
   "execution_count": null,
   "source": [
    "# réponse question 2"
   ],
   "outputs": [],
   "metadata": {}
  },
  {
   "cell_type": "code",
   "execution_count": null,
   "source": [
    "# réponse question 3"
   ],
   "outputs": [],
   "metadata": {}
  },
  {
   "cell_type": "code",
   "execution_count": null,
   "source": [
    "# réponse question 4"
   ],
   "outputs": [],
   "metadata": {}
  },
  {
   "cell_type": "code",
   "execution_count": null,
   "source": [
    "# réponse question 5"
   ],
   "outputs": [],
   "metadata": {}
  },
  {
   "cell_type": "code",
   "execution_count": null,
   "source": [
    "# réponse question 6"
   ],
   "outputs": [],
   "metadata": {}
  },
  {
   "cell_type": "markdown",
   "source": [
    "## 3. Points sur les data frame et les séries\n",
    "\n",
    "Pandas utilise des objets de type `dataFrame`. Un data frame est un tableau composé de colonnes et de lignes. Chaque colone contient généralement un seul type de données et est représenté par un object de type 'Series'.\n",
    "\n",
    "### Les séries\n",
    "\n",
    "Une série est un objet unidimensionnel pouvant contenir seulement des entiers, des nombres à virgules et des chaînes de caractères. Une série contient généralement des données de même type (sinon, elle est généralement difficilement exploitable).\n",
    "\n",
    "Voici un exemple de série :"
   ],
   "metadata": {}
  },
  {
   "cell_type": "code",
   "execution_count": null,
   "source": [
    "serie = pd.Series([10,20,30,40,50])\r\n",
    "\r\n",
    "serie"
   ],
   "outputs": [],
   "metadata": {}
  },
  {
   "cell_type": "markdown",
   "source": [
    "Une série a un index, ici allant de 0 à 4 :"
   ],
   "metadata": {}
  },
  {
   "cell_type": "code",
   "execution_count": null,
   "source": [
    "serie.index"
   ],
   "outputs": [],
   "metadata": {}
  },
  {
   "cell_type": "markdown",
   "source": [
    "L'index d'une série peut être défini :"
   ],
   "metadata": {}
  },
  {
   "cell_type": "code",
   "execution_count": null,
   "source": [
    "serie = pd.Series([10,20,30,40,50], index=['a', 'b', 'c', 'd', 'e'])\r\n",
    "\r\n",
    "serie"
   ],
   "outputs": [],
   "metadata": {}
  },
  {
   "cell_type": "markdown",
   "source": [
    "L'accès à un ou plusieurs éléments de la série peut se faire via l'index :"
   ],
   "metadata": {}
  },
  {
   "cell_type": "code",
   "execution_count": null,
   "source": [
    "print(str(serie[['a', 'b']])+\"\\n\")\r\n",
    "print(\"type d'une série: \"+str(type(serie[['a', 'b']])))\r\n",
    "\r\n",
    "print(\"\\naccès à un élément via l'index:\")\r\n",
    "print(serie['a'])"
   ],
   "outputs": [],
   "metadata": {}
  },
  {
   "cell_type": "markdown",
   "source": [
    "ou bien via le numéro de la ligne :"
   ],
   "metadata": {}
  },
  {
   "cell_type": "code",
   "execution_count": null,
   "source": [
    "serie[0]"
   ],
   "outputs": [],
   "metadata": {}
  },
  {
   "cell_type": "markdown",
   "source": [
    "Et enfin, pour faire le lien avec nos données :  chaque colonne du dataFrame `dataTraces` est donc une série. Dans l'exemple suivant, nous utilisons la fonction type() pour afficher le type d'une colonne sélectionnée dans notre data frame `dataTraces`."
   ],
   "metadata": {}
  },
  {
   "cell_type": "code",
   "execution_count": null,
   "source": [
    "print(type(dataTraces['idUser']))"
   ],
   "outputs": [],
   "metadata": {}
  },
  {
   "cell_type": "markdown",
   "source": [
    "### Les data frames\n",
    "\n",
    "Un data frame est un objet à 2 dimensions pouvant avoir plusieurs colonnes avec des types différents.\n",
    "\n",
    "Il est possible d'avoir le début ou la fin d'un data frame avec les fonctions `head()` et `tail()`.\n",
    "\n",
    "La méthode `describe()` permet d'avoir des statistiques simples sur les colonnes contenant des données numériques."
   ],
   "metadata": {}
  },
  {
   "cell_type": "code",
   "execution_count": null,
   "source": [
    "dataTraces.describe()"
   ],
   "outputs": [],
   "metadata": {}
  },
  {
   "cell_type": "markdown",
   "source": [
    "### 4. Jointure entre 2 data frames\n",
    "\n",
    "Une jointure entre deux data frames A et B consiste à les fusionner en associant une ligne de A avec une ligne de B si elles ont toutes les deux la même valeur sur une certaine colonne. \n",
    "\n",
    "Dans l'exemple suivant, nous créons une nouveau data frame contenant l'âge des utilisateurs et nous réalisons une jointure entre `dataTraces` et ce nouveau data frame."
   ],
   "metadata": {}
  },
  {
   "cell_type": "code",
   "execution_count": null,
   "source": [
    "dataAge = pd.DataFrame({\"idUser\": [1, 2], \"Age\": [39, 25]})\r\n",
    "\r\n",
    "dataAge.idUser.astype(int)\r\n",
    "dataAge"
   ],
   "outputs": [],
   "metadata": {}
  },
  {
   "cell_type": "markdown",
   "source": [
    "Ensuite, nous ré-affichons le contenu de $dataTraces$ avant de faire la fusion entre les deux tables :"
   ],
   "metadata": {}
  },
  {
   "cell_type": "code",
   "execution_count": null,
   "source": [
    "dataTraces"
   ],
   "outputs": [],
   "metadata": {}
  },
  {
   "cell_type": "markdown",
   "source": [
    "Et maintenant, nous réalisons la fusion des deux data frames, en combinant toutes les lignes des deux tableaux ayant la même valeur sur la colonne $idUser$."
   ],
   "metadata": {}
  },
  {
   "cell_type": "code",
   "execution_count": null,
   "source": [
    "dataTraces.merge(dataAge, left_on='idUser', right_on='idUser')"
   ],
   "outputs": [],
   "metadata": {}
  },
  {
   "cell_type": "markdown",
   "source": [
    "#### Exercice\n",
    "\n",
    "1. créez un data frame contenant comme colonne le nom des étudiant et leurs notes en programmation objet\n",
    "2. créez un data frame contenant les notes et le nom de l'étudiant `Antoine`"
   ],
   "metadata": {}
  },
  {
   "cell_type": "code",
   "execution_count": null,
   "source": [
    "# réponse question 1"
   ],
   "outputs": [],
   "metadata": {}
  },
  {
   "cell_type": "code",
   "execution_count": null,
   "source": [
    "# réponse question 2"
   ],
   "outputs": [],
   "metadata": {}
  },
  {
   "cell_type": "markdown",
   "source": [
    "### 5. Statistiques\n",
    "\n",
    "Pandas fournit des fonctions pour analyser les données. En voici quelques exemples :\n",
    "- `pd.unique(series)` retourne un tableau contenant l'ensemble des valeurs contenues dans la série donnée en paramètre (un ensemble ne contient pas de doublon) \n",
    "- `dataFrame.count()` retourne le nombre de valeurs non null pour chaque colonne\n",
    "- `dataFrame.mean()` retourne la moyenne d'une colonne\n",
    "\n",
    "Toutes les documentation de ces fonctions sont disponibles ici :\n",
    "https://pandas.pydata.org/pandas-docs/stable/index.html\n",
    "\n",
    "Ou bien le plus simple est de rechercher sur Google en tapant par exemple \"Pandas mean\" ou bien \"Pandas all values of a column\".\n",
    "\n",
    "Et oui...toutes les documentations sont en anglais...et la plupart des aides, tutoriels, cours en ligne sont en anglais pour l'informatique. Il est nécessaire d'apprendre un peu de vocabulaire pour devenir programmeur - autant commencer maintenant.\n",
    "\n",
    "#### Exercice\n",
    "\n",
    "1. lisez la documentation sur les fonctions précédentes\n",
    "2. déterminez combien d'étudiants sont disponibles dans `dataTraces`\n",
    "3. combien de valeurs y a-t-il dans la colonne `idUser` de `dataTraces` ?\n",
    "4. combien y a-t-il de valeurs dans chaque colonne ?\n",
    "5. calculez la moyenne obtenues pour le cours Patron de conception\n",
    "6. calculez le nombre d'événements par cours\n"
   ],
   "metadata": {}
  },
  {
   "cell_type": "code",
   "execution_count": null,
   "source": [
    "# réponse question 2"
   ],
   "outputs": [],
   "metadata": {}
  },
  {
   "cell_type": "code",
   "execution_count": null,
   "source": [
    "# réponse question 3"
   ],
   "outputs": [],
   "metadata": {}
  },
  {
   "cell_type": "code",
   "execution_count": null,
   "source": [
    "# réponse question 4\n"
   ],
   "outputs": [],
   "metadata": {}
  },
  {
   "cell_type": "code",
   "execution_count": null,
   "source": [
    "# réponse question 5"
   ],
   "outputs": [],
   "metadata": {}
  },
  {
   "cell_type": "code",
   "execution_count": null,
   "source": [
    "# réponse question 6"
   ],
   "outputs": [],
   "metadata": {}
  },
  {
   "cell_type": "markdown",
   "source": [
    "### 6. Groupby\n",
    "\n",
    "\n",
    "Pandas fournit une fonction très puissantes pour pouvoir créer des groupes de lignes afin de leur appliquer un traitement. \n",
    "\n",
    "Prenons un exemple où nous disposons d'un dataframe contenant les notes obtenues à chaque matière pour chaque étudiant. Pour avoir la moyenne générale de chaque étudiant, nous pouvons utiliser la méthode suivante:\n",
    "1. création de 2 sous dataframe, avec chacun soit les lignes de Fabien et soit les lignes d'Antoine\n",
    "2. sur chaque sous tableau, faire la moyenne \n",
    "\n",
    "La fonction permettant de réaliser cette opération est le `groupby`, que l'on applique sur un dataframe.\n"
   ],
   "metadata": {}
  },
  {
   "cell_type": "code",
   "execution_count": null,
   "source": [
    "dataExempleNotes = pd.DataFrame({\"idUser\": ['Antoine', 'Fabien', 'Antoine', 'Fabien', 'Antoine', 'Fabien'], \r\n",
    "                                 \"Notes\": [13, 10, 15, 18, 9, 7]})\r\n",
    "\r\n",
    "dataExempleNotes"
   ],
   "outputs": [],
   "metadata": {
    "scrolled": true
   }
  },
  {
   "cell_type": "code",
   "execution_count": null,
   "source": [
    "# création des sous groupes\r\n",
    "\r\n",
    "groups = dataExempleNotes.groupby('idUser')\r\n",
    "\r\n",
    "# pour information, il est possible de parcourir les sous dataframes créés\r\n",
    "for group in groups:\r\n",
    "    print(group)\r\n",
    "    \r\n"
   ],
   "outputs": [],
   "metadata": {}
  },
  {
   "cell_type": "markdown",
   "source": [
    "Une fois les sous groupes obtenus, la moyenne pour chaque étudiant est obtenue facilement:"
   ],
   "metadata": {}
  },
  {
   "cell_type": "code",
   "execution_count": null,
   "source": [
    "groups.mean()"
   ],
   "outputs": [],
   "metadata": {
    "scrolled": true
   }
  },
  {
   "cell_type": "markdown",
   "source": [
    "#### Exercice\n",
    "\n",
    "1. lisez la documentation sur la fonctions `groupby`\n",
    "2. testez le `groupby` en sélectionnant plusieurs colonnes (par exemple `idUser` et `cours`, sur le fichier notes.csv). Qu'obtenez vous ? \n",
    "3. calculez le nombre d'événements réalisés par 1 et 2 à partir du fichier de traces\n",
    "4. calculez la moyenne obtenue pour chaque matière"
   ],
   "metadata": {}
  },
  {
   "cell_type": "markdown",
   "source": [
    "\r\n",
    "\r\n",
    "\r\n",
    "\r\n",
    "## Partie 2 - Projet Immobilier\r\n",
    "\r\n",
    "### Exercice :\r\n",
    "1. créez un nouveau notebook\r\n",
    "2. étudiez dans ce notebook les données immobilières, avec Pandas, en essayant de déterminer les colonnes intéressantes\r\n",
    "3. déterminez les statistiques suivantes :\r\n",
    "  - le nombre de ventes immobilières\r\n",
    "  - le nombre de ventes d'appartements\r\n",
    "  - le nombre de ventes de maisons\r\n",
    "  - le nombre de communes\r\n",
    "  - le nombre de rue différentes\r\n",
    "  - le nombre de ventes par rue (aide : utilisez la fonction `groupby()`)\r\n",
    "  - le nombre de ventes par commune (aide : utilisez la fonction `groupby()`)\r\n",
    "  - le nombre de ventes moyen par rue\r\n",
    "4. déterminez les lignes présentant des données vides (recherchez sur Google comment faire). Aide: utilisez la fonction `unique()` sur une série pour voir les valeurs contenues dans vos colonnes. Ou bien utilisez la fonction `value_counts()` sur une série. Rappel : la sélection d'une seule colonne retourne une `Serie` Pandas\r\n",
    "5. déterminez le prix moyen d'un appartement, d'une maison, le prix moyen d'un appartement par commune, le prix moyen d'une maison par commune\r\n",
    "6. réfléchissez à votre méthode pour gérer les données manquantes\r\n",
    "7. réfléchissez aux choix des colonnes à garder pour faire de la prédiction de prix\r\n",
    "8. est il possible de fusionner les 2 fichiers ? quelles sont les colonnes à garder ?\r\n",
    "9. sauvegardez les données nettoyées dans un fichier `.csv` (possiblement 2 fichiers, un pour les appartements et l'autre pour les maisons)\r\n"
   ],
   "metadata": {}
  },
  {
   "cell_type": "code",
   "execution_count": null,
   "source": [],
   "outputs": [],
   "metadata": {}
  }
 ],
 "metadata": {
  "kernelspec": {
   "display_name": "Python 3",
   "language": "python",
   "name": "python3"
  },
  "language_info": {
   "codemirror_mode": {
    "name": "ipython",
    "version": 3
   },
   "file_extension": ".py",
   "mimetype": "text/x-python",
   "name": "python",
   "nbconvert_exporter": "python",
   "pygments_lexer": "ipython3",
   "version": "3.8.8"
  },
  "toc": {
   "base_numbering": 1,
   "nav_menu": {},
   "number_sections": true,
   "sideBar": true,
   "skip_h1_title": false,
   "title_cell": "Table of Contents",
   "title_sidebar": "Contents",
   "toc_cell": false,
   "toc_position": {},
   "toc_section_display": true,
   "toc_window_display": false
  }
 },
 "nbformat": 4,
 "nbformat_minor": 2
}