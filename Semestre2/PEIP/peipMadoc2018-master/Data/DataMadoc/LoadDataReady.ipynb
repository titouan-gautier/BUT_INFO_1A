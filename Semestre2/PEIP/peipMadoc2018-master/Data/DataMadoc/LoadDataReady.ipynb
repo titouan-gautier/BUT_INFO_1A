{
 "cells": [
  {
   "cell_type": "markdown",
   "metadata": {},
   "source": [
    "## Test chargement des données"
   ]
  },
  {
   "cell_type": "code",
   "execution_count": null,
   "metadata": {},
   "outputs": [],
   "source": [
    "import pandas as pd\n",
    "import math\n",
    "\n",
    "version = '1.10'"
   ]
  },
  {
   "cell_type": "code",
   "execution_count": null,
   "metadata": {},
   "outputs": [],
   "source": [
    "dataTraces = pd.read_csv('./dataReady/madoc.'+version+'.csv.gz', sep=',')\n",
    "\n",
    "dataTraces.head()"
   ]
  },
  {
   "cell_type": "code",
   "execution_count": null,
   "metadata": {},
   "outputs": [],
   "source": [
    "dataAnonym = pd.read_csv('./dataReady/anonym.'+version+'.csv')\n",
    "\n",
    "dataAnonym.head()"
   ]
  },
  {
   "cell_type": "code",
   "execution_count": null,
   "metadata": {},
   "outputs": [],
   "source": [
    "dataTraces['event_timecreated'].unique()"
   ]
  },
  {
   "cell_type": "code",
   "execution_count": null,
   "metadata": {},
   "outputs": [],
   "source": [
    "dataTraces.dtypes"
   ]
  },
  {
   "cell_type": "code",
   "execution_count": null,
   "metadata": {},
   "outputs": [],
   "source": [
    "\n",
    "# retrouve les lignes avec un null, puis parcours les colonnes avec any() qui retourne les index avec au moins un True\n",
    "dataTraces[ dataTraces.isnull().any(axis=1) == True]\n"
   ]
  },
  {
   "cell_type": "markdown",
   "metadata": {},
   "source": [
    "One entry presents 'NaN' values for all the information :"
   ]
  },
  {
   "cell_type": "code",
   "execution_count": null,
   "metadata": {},
   "outputs": [],
   "source": [
    "uuid = '79ca8cb7-e81f-4e0d-a17a-c5ad832d07a5'\n",
    "\n",
    "dataAnonym[dataAnonym.uuid == uuid].head()"
   ]
  },
  {
   "cell_type": "code",
   "execution_count": null,
   "metadata": {},
   "outputs": [],
   "source": [
    "dataTraces"
   ]
  },
  {
   "cell_type": "code",
   "execution_count": null,
   "metadata": {},
   "outputs": [],
   "source": [
    "dataAll = dataTraces.merge(dataAnonym, on='uuid')\n",
    "\n",
    "dataAll.head()\n",
    "#dataUndef.head()\n",
    "\n"
   ]
  },
  {
   "cell_type": "code",
   "execution_count": null,
   "metadata": {
    "scrolled": true
   },
   "outputs": [],
   "source": [
    "dataAll[dataAll['user_lastname'] == 'PIGEAU']['user_lastlogin'].unique()"
   ]
  },
  {
   "cell_type": "code",
   "execution_count": null,
   "metadata": {},
   "outputs": [],
   "source": [
    "dataAll[dataAll['user_lastname'] == 'PIGEAU']['user_currentlogin'].unique()"
   ]
  },
  {
   "cell_type": "code",
   "execution_count": null,
   "metadata": {},
   "outputs": [],
   "source": [
    "dataUndef = dataAll[dataAll['type'] == 'Indéfini']\n",
    "\n",
    "print(\"Nombre d'événement non défini:\"+str(dataUndef.shape[0]))\n",
    "dataUndef.columns"
   ]
  },
  {
   "cell_type": "code",
   "execution_count": null,
   "metadata": {
    "scrolled": true
   },
   "outputs": [],
   "source": [
    "\n",
    "dataUndef[dataUndef['user_email'] == 'root@localhost']['user_username'].unique()"
   ]
  },
  {
   "cell_type": "code",
   "execution_count": null,
   "metadata": {},
   "outputs": [],
   "source": [
    "print('shape:'+str(dataUndef[ (dataUndef['user_email'] != 'root@localhost') ]['user_username'].shape))\n",
    "\n",
    "print(\"Number of different email for undefined row:\"+str(dataUndef['user_email'].unique()))"
   ]
  },
  {
   "cell_type": "code",
   "execution_count": null,
   "metadata": {},
   "outputs": [],
   "source": [
    "dataRealUndef = dataUndef[ (dataUndef['user_email'] != 'root@localhost') ]\n",
    "\n",
    "dataRealUndef"
   ]
  },
  {
   "cell_type": "code",
   "execution_count": null,
   "metadata": {
    "scrolled": false
   },
   "outputs": [],
   "source": [
    "dataAdmin = dataTraces[dataTraces['type'] == 'Admin']\n",
    "\n",
    "dataAdmin"
   ]
  },
  {
   "cell_type": "code",
   "execution_count": null,
   "metadata": {},
   "outputs": [],
   "source": [
    "\n",
    "dataAdmin.groupby('event_target').count()"
   ]
  },
  {
   "cell_type": "code",
   "execution_count": null,
   "metadata": {},
   "outputs": [],
   "source": [
    "dataUndef\n",
    "\n"
   ]
  },
  {
   "cell_type": "code",
   "execution_count": null,
   "metadata": {},
   "outputs": [],
   "source": []
  }
 ],
 "metadata": {
  "kernelspec": {
   "display_name": "Python 3",
   "language": "python",
   "name": "python3"
  },
  "language_info": {
   "codemirror_mode": {
    "name": "ipython",
    "version": 3
   },
   "file_extension": ".py",
   "mimetype": "text/x-python",
   "name": "python",
   "nbconvert_exporter": "python",
   "pygments_lexer": "ipython3",
   "version": "3.6.7"
  }
 },
 "nbformat": 4,
 "nbformat_minor": 2
}
