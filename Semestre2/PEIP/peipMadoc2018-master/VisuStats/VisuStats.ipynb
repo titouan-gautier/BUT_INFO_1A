{
 "cells": [
  {
   "cell_type": "markdown",
   "metadata": {},
   "source": [
    "<p style=\"text-align:right\">Polytech Nantes</p>\n",
    "\n",
    "# Visualisations avec Pandas"
   ]
  },
  {
   "cell_type": "markdown",
   "metadata": {},
   "source": [
    "## Objectif & Plan\n",
    "\n",
    "La bibliothèque [pandas](http://pandas.pydata.org/) est connue pour faciliter la manipulation de données, mais elle offre aussi des méthodes pour l'analyse statistique et la visualisation de données. L'objectif de cette séance est d'introduire les principales méthodes pour ces tâches.\n",
    "\n",
    "A noter : [pandas](http://pandas.pydata.org/) utilise nativement [matplotlib](https://matplotlib.org) pour construire ses graphiques. [matplotlib](https://matplotlib.org) est la bibliothèque Python de référence pour la visualisation de données. Pour certains graphiques avancés qui ne sont pas proposés dans [pandas](http://pandas.pydata.org/), il faudra utiliser directement [matplotlib](https://matplotlib.org).\n",
    "\n",
    "La première partie du notebook est dédiée à la préparation d'un tableau statistique. Dans les parties 2 et 3 vous étudierez respectivement les variables numériques puis catégoriques. La partie 4 est consacrée aux applications sur les données Madoc."
   ]
  },
  {
   "cell_type": "markdown",
   "metadata": {},
   "source": [
    "## Partie 1 - Visualisation\n",
    "\n",
    "### Création d'un tableau statistique"
   ]
  },
  {
   "cell_type": "markdown",
   "metadata": {},
   "source": [
    "Un tableau statistique est un tableau Individus x Variables, càd que chaque ligne décrit un individu (au sens statistique du terme, il peut s'agir d'une personne, d'un objet, d'un pays...) et chaque colonne contient une variable qui décrit les individus. Sur les données Madoc, si on considère chaque étudiant comme un individu, alors les données `dataTraces` et `dataNotes` manipulées lors de la  dernière séance ne sont pas des tableaux statistiques puisque plusieurs lignes peuvent concerner le même individu. Ci-dessous vous allez construire le tableau statistique Etudiants x Matière qui contient les notes."
   ]
  },
  {
   "cell_type": "markdown",
   "metadata": {},
   "source": [
    "Chargez les données `dataNotes.v2.csv` et `dataTraces.v2.csv`."
   ]
  },
  {
   "cell_type": "code",
   "execution_count": 1,
   "metadata": {},
   "outputs": [],
   "source": [
    "import pandas as pd\n",
    "# votre code ici pour charger dataNotes.v2.csv"
   ]
  },
  {
   "cell_type": "code",
   "execution_count": null,
   "metadata": {
    "scrolled": true
   },
   "outputs": [],
   "source": [
    "# votre code ici pour charger dataTraces.v2.csv"
   ]
  },
  {
   "cell_type": "markdown",
   "metadata": {},
   "source": [
    "Pour chaque dataFrame, vérifiez le nombre de lignes et les types des variables à l'aide des attributs `shape` et `dtypes`. Dans [pandas](http://pandas.pydata.org/), les Objects désignent des chaînes de caractères."
   ]
  },
  {
   "cell_type": "markdown",
   "metadata": {},
   "source": [
    "Combien d'étudiants différents sont étudiés dans les données ? Combien de matières différentes et de ressources différentes sont représentées ?"
   ]
  },
  {
   "cell_type": "markdown",
   "metadata": {},
   "source": [
    "Vous aller reconstituer le jeu de données statistique qui décrit chaque étudiant par ses notes dans les 4 matières en suivant les étapes suivantes :\n",
    "- créez le dataFrame `correspondance` qui contient la correspondance entre idUser et le nom de l'étudiant (utilisez `drop_duplicates()`) ;\n",
    "- pour chaque matière M, construisez un dataFrame `notesM` avec deux colonnes `idUser` et `Note`, qui contient toutes les notes de la matière ;\n",
    "- faites la jointure entre tous ces dataFrames sur `idUser`."
   ]
  },
  {
   "cell_type": "markdown",
   "metadata": {},
   "source": [
    "#### Exercice\n",
    "\n",
    "Créez dans le bloc ci-dessous le dataFrame `correspondance` :"
   ]
  },
  {
   "cell_type": "code",
   "execution_count": null,
   "metadata": {},
   "outputs": [],
   "source": [
    "# creation du dataframe 'correspondance'\n"
   ]
  },
  {
   "cell_type": "markdown",
   "metadata": {},
   "source": [
    "<br>Pour créer le dataFrame `notesM` des notes d'une matière M, vous pouvez commencer par vérifier que chaque étudiant a bien au plus une seule note dans la matière (au plus car il arrive que des étudiants n'aient pas de note dans certaines matières)."
   ]
  },
  {
   "cell_type": "code",
   "execution_count": null,
   "metadata": {},
   "outputs": [],
   "source": [
    "dataNotes[dataNotes.cours == 'Programmation objet'].groupby(['idUser']).agg('count')"
   ]
  },
  {
   "cell_type": "markdown",
   "metadata": {},
   "source": [
    "Notez la syntaxe `dataNotes.cours`, qui est équivalente à `dataNotes['cours']` mais ne fonctionne que si le nom de la colonne ne comporte aucun espace."
   ]
  },
  {
   "cell_type": "markdown",
   "metadata": {},
   "source": [
    "Sélectionnez les lignes et colonnes qui vous intéressent :"
   ]
  },
  {
   "cell_type": "code",
   "execution_count": null,
   "metadata": {},
   "outputs": [],
   "source": [
    "# selection des iduser / notes en programmation objet\n"
   ]
  },
  {
   "cell_type": "markdown",
   "metadata": {},
   "source": [
    "Vérifiez le type de la colonne `notes` du dataFrame `notesProgrammationObjet` avec `dtypes`. La colonne est toujours une chaîne de caractères, alors que dans cette matières les notes sont numériques. Transformez la colonne en nombre à l'aide de la commande `to_numeric()` :"
   ]
  },
  {
   "cell_type": "code",
   "execution_count": null,
   "metadata": {},
   "outputs": [],
   "source": [
    "# transformation de la colonne  'notes' en entier\n"
   ]
  },
  {
   "cell_type": "markdown",
   "metadata": {},
   "source": [
    "Vérifiez s'il y a des notes manquantes (vides) dans cette matière :"
   ]
  },
  {
   "cell_type": "code",
   "execution_count": null,
   "metadata": {
    "scrolled": true
   },
   "outputs": [],
   "source": [
    "notesProgrammationObjet.count()"
   ]
  },
  {
   "cell_type": "markdown",
   "metadata": {},
   "source": [
    "Pour faciliter la future jointure, renommez la colonne \"notes\" du dataFrame pour qu'elle porte le nom de la matière :"
   ]
  },
  {
   "cell_type": "code",
   "execution_count": null,
   "metadata": {},
   "outputs": [],
   "source": [
    "notesProgrammationObjet.columns"
   ]
  },
  {
   "cell_type": "code",
   "execution_count": null,
   "metadata": {},
   "outputs": [],
   "source": [
    "notesProgrammationObjet.columns = ['idUser','ProgrammationObjet']"
   ]
  },
  {
   "cell_type": "markdown",
   "metadata": {},
   "source": [
    "Faire un merge entre les notes de programmation objet et le dataframe `correspondance`"
   ]
  },
  {
   "cell_type": "code",
   "execution_count": null,
   "metadata": {},
   "outputs": [],
   "source": [
    "# merge correspondance et notes\n"
   ]
  },
  {
   "cell_type": "markdown",
   "metadata": {},
   "source": [
    "Faites de même avec les 3 autres matières, pour finir avec un tableau avec une colonne identifiant (nom de l'étudiant) et quatres colonnes de notes (une par matière).\n",
    "\n",
    "Chaque colonne de notes aura pour nom le nom de sa matière associée."
   ]
  },
  {
   "cell_type": "code",
   "execution_count": null,
   "metadata": {},
   "outputs": [],
   "source": [
    "# code création des trois autres"
   ]
  },
  {
   "cell_type": "markdown",
   "metadata": {},
   "source": [
    "Enfin, vous pouvez supprimer la colonne `idUser` du dataFrame. Vérifiez dans l'aide à quoi servent les paramètres `axis` et `inplace`."
   ]
  },
  {
   "cell_type": "code",
   "execution_count": null,
   "metadata": {},
   "outputs": [],
   "source": [
    "tableau.drop('idUser', axis=1, inplace=True)\n",
    "\n",
    "tableau"
   ]
  },
  {
   "cell_type": "markdown",
   "metadata": {},
   "source": [
    "### Analyse d'une variable numérique"
   ]
  },
  {
   "cell_type": "markdown",
   "metadata": {},
   "source": [
    "#### Tableau d'effectifs"
   ]
  },
  {
   "cell_type": "markdown",
   "metadata": {},
   "source": [
    "On commence par étudier les notes de la matière ProgrammationObjet. La fonction `value_counts()` permet de produire le tableau des effectifs des valeurs d'une variable (càd le tableau des comptages)."
   ]
  },
  {
   "cell_type": "code",
   "execution_count": null,
   "metadata": {},
   "outputs": [],
   "source": [
    "tableau.ProgrammationObjet.value_counts()"
   ]
  },
  {
   "cell_type": "markdown",
   "metadata": {},
   "source": [
    "#### Exercice\n",
    "\n",
    "En vous aidant de l'aide de `value_counts()` :\n",
    "1. triez la sortie par ordre des valeurs,\n",
    "2. transformez les effectifs en fréquences (entre 0 et 1),\n",
    "3. regroupez les valeurs possibles sur la série d'intervalles suivante : [0,5,10,15,20]"
   ]
  },
  {
   "cell_type": "markdown",
   "metadata": {
    "collapsed": true
   },
   "source": [
    "### Représentations graphiques\n",
    "\n",
    "Il s'agit de visualiser la **distribution** des valeurs, càd la manière dont les valeurs se répartissent au sein du domaine des valeurs possibles. Les représentations usuelles pour une variable numérique sont l'**histogramme** et la **boîte à moustache**."
   ]
  },
  {
   "cell_type": "markdown",
   "metadata": {},
   "source": [
    "Dans cette partie on s'intérese aux notes de la matière Statistiques. On commence par indiquer à Jupyter d'autoriser les graphiques [matplotlib](https://matplotlib.org) à s'afficher au sein du notebook."
   ]
  },
  {
   "cell_type": "code",
   "execution_count": null,
   "metadata": {},
   "outputs": [],
   "source": [
    "%matplotlib inline"
   ]
  },
  {
   "cell_type": "code",
   "execution_count": null,
   "metadata": {
    "scrolled": true
   },
   "outputs": [],
   "source": [
    "tableau.Statistiques.plot.hist();"
   ]
  },
  {
   "cell_type": "markdown",
   "metadata": {},
   "source": [
    "Les fonctions graphiques de [matplotlib](https://matplotlib.org) possèdent de nombreux paramètres permettant de personnaliser les graphiques : couleurs, lignes, légende, axes, annotations, polices, graphique empilé... Nous n'en utiliserons qu'une petite partie ici."
   ]
  },
  {
   "cell_type": "markdown",
   "metadata": {},
   "source": [
    "Le même histogramme mais plus lisible :"
   ]
  },
  {
   "cell_type": "code",
   "execution_count": null,
   "metadata": {},
   "outputs": [],
   "source": [
    "tableau.Statistiques.plot.hist(color='yellow', edgecolor = 'red')"
   ]
  },
  {
   "cell_type": "markdown",
   "metadata": {},
   "source": [
    "On peut aussi imposer des bornes pour l'axe des abscisses, par exemple 0 et 20."
   ]
  },
  {
   "cell_type": "code",
   "execution_count": null,
   "metadata": {},
   "outputs": [],
   "source": [
    "tableau.Statistiques.plot.hist(color='yellow', edgecolor = 'red', range=(0,20))"
   ]
  },
  {
   "cell_type": "markdown",
   "metadata": {},
   "source": [
    "Vous pouvez constater que l'histogramme a changé. Comme toute représentation synthétique, l'histogramme ne retranscrit pas toute l'information présente dans les données. Les valeurs sont agrégées au sein d'intervalles (les _bins_), qui sont les largeurs des rectangles jaunes. Le choix des intervalles n'est pas unique, et dans le cas général il n'admet pas de solution optimale. Comme tout outil de statistique, [matplotlib](https://matplotlib.org) propose un choix par défaut, mais qui n'est qu'un choix parmi d'autres."
   ]
  },
  {
   "cell_type": "markdown",
   "metadata": {},
   "source": [
    "#### Exercice\n",
    "\n",
    "En vous aidant de l'aide de `plot.hist()` :\n",
    "1. modifiez le dernier histogramme pour avoir exactement 5 intervalles,\n",
    "2. augmentez le nombre d'intervalles jusqu'à 50 ou 60 par exemple (vous voyez des détails plus précis mais perdez l'illusion d'une distribution continue des notes),\n",
    "3. faites l'histogramme en précisant les intervalles de discrétisation de votre choix, sans qu'ils aient tous la même amplitude."
   ]
  },
  {
   "cell_type": "markdown",
   "metadata": {},
   "source": [
    "<br>Pour personnaliser davantage les graphiques, il est nécessaire de charger le module [pyplot](https://matplotlib.org/api/pyplot_summary.html) de la librairie [matplotlib](http://matplotlib.org/)."
   ]
  },
  {
   "cell_type": "code",
   "execution_count": null,
   "metadata": {},
   "outputs": [],
   "source": [
    "from matplotlib import pyplot\n",
    "pyplot.rcParams[\"figure.figsize\"] = [10,5]    #changement de la taille par défaut pour tous les graphes \n",
    "tableau.Statistiques.plot.hist(color='yellow', edgecolor = 'red', range = (0, 20), bins = 8, normed=True)\n",
    "pyplot.xticks(range(0,21,2))\n",
    "pyplot.title('Notes de Statistiques')\n",
    "pyplot.xlabel('note')\n",
    "pyplot.ylabel('fréquence')"
   ]
  },
  {
   "cell_type": "markdown",
   "metadata": {},
   "source": [
    "<br>On peut aussi afficher la courbe **estimée** de la densité de la distribution. L'estimation est obtenue par la méthode dite du noyau. Attention, ci-dessous la superposition des deux graphiques est réalisée grossièrement. En toute rigueur, il faudrait s'arranger pour que les graduations sur les deux axes verticaux soient les mêmes."
   ]
  },
  {
   "cell_type": "code",
   "execution_count": null,
   "metadata": {},
   "outputs": [],
   "source": [
    "tableau.ProgrammationObjet.plot.hist(color='yellow', edgecolor = 'red', normed=True)\n",
    "tableau.ProgrammationObjet.plot.density(secondary_y=True,)"
   ]
  },
  {
   "cell_type": "markdown",
   "metadata": {},
   "source": [
    "<br>On peut aussi appeler la méthode `plot.hist()` directement sur le dataframe pour obtenir les histogrammes de toutes les variables. Remarquez ci-dessous le point-virgule à la fin de la ligne de code, qui impose à Jupyter de ne pas afficher les messages textuels dans les résultats."
   ]
  },
  {
   "cell_type": "code",
   "execution_count": null,
   "metadata": {
    "scrolled": true
   },
   "outputs": [],
   "source": [
    "tableau.plot.hist(subplots=True, color='yellow', edgecolor = 'red', figsize=(5,10));"
   ]
  },
  {
   "cell_type": "markdown",
   "metadata": {},
   "source": [
    "#### Exercice\n",
    "\n",
    "A partir des histogrammes des notes des 3 matières, déterminez visuellement la matière qui possède :\n",
    "1. la note moyenne la plus élevée,\n",
    "2. la dispersion des notes (écart-type) la plus grande."
   ]
  },
  {
   "cell_type": "markdown",
   "metadata": {},
   "source": [
    "<br>Une autre représentation moins \"grand public\" mais très efficace est la boîte à moustache (_boxplot_). La boîte au milieu de la représentation en délimitée par les premier et troisième quartile, et traversée par la médiane. Tous les points qui sortent des moustaches (les 2 lignes qui entourent la boîte) sont appelés des valeurs extrêmes."
   ]
  },
  {
   "cell_type": "code",
   "execution_count": null,
   "metadata": {},
   "outputs": [],
   "source": [
    "tableau.Statistiques.plot.box()"
   ]
  },
  {
   "cell_type": "markdown",
   "metadata": {},
   "source": [
    "<br>Boîtes à moustaches parallèles, très utiles pour comparer les distributions :"
   ]
  },
  {
   "cell_type": "code",
   "execution_count": null,
   "metadata": {
    "scrolled": true
   },
   "outputs": [],
   "source": [
    "tableau.plot.box()"
   ]
  },
  {
   "cell_type": "markdown",
   "metadata": {},
   "source": [
    "<br>Avec des couleurs..."
   ]
  },
  {
   "cell_type": "code",
   "execution_count": null,
   "metadata": {
    "scrolled": false
   },
   "outputs": [],
   "source": [
    "color = dict(boxes='DarkGreen', whiskers='DarkOrange', medians='DarkBlue', caps='Gray')\n",
    "tableau.plot.box(color=color)"
   ]
  },
  {
   "cell_type": "markdown",
   "metadata": {},
   "source": [
    "#### Exercice\n",
    "\n",
    "A partir des boîtes à moustaches parallèles des 3 matières, déterminez visuellement la matière qui possède :\n",
    "1. la note médiane la plus élevée,\n",
    "2. la dispersion des notes la plus grande."
   ]
  },
  {
   "cell_type": "markdown",
   "metadata": {
    "collapsed": true
   },
   "source": [
    "### Indicateurs"
   ]
  },
  {
   "cell_type": "markdown",
   "metadata": {
    "collapsed": true
   },
   "source": [
    "On peut résumer les caractéristiques d'une distribution avec deux notions principales :\n",
    "- la **valeur centrale** ---> autour de quelle valeur tourne la variable ?\n",
    "- la **dispersion**       ---> comment les valeurs de la variable sont-elles dispersées autour de la valeur centrale ?\n",
    "\n",
    "Sur un dataFrame `df`, on peut calculer ces indicateurs de la manière suivante : `df.FONCTION()` ou `df.Variable.FONCTION()`. En guise de FONCTION, vous pouvez utiliser parmi d'autres choix :\n",
    "- la médiane `median()` ou la moyenne `mean()` pour la valeur centrale,\n",
    "- l'écart-type `std()` pour la dispersion."
   ]
  },
  {
   "cell_type": "markdown",
   "metadata": {},
   "source": [
    "#### Exercice\n",
    "\n",
    "1. Calculez la note moyenne, la note médiane, et l'écart-type des notes pour chaque matière.\n",
    "2. Même question en intégrant les valeurs manquantes dans le calcul (ce qui n'est pas les comportement par défaut des fonctions)."
   ]
  },
  {
   "cell_type": "markdown",
   "metadata": {},
   "source": [
    "### Analyse d'une variable catégorique"
   ]
  },
  {
   "cell_type": "markdown",
   "metadata": {},
   "source": [
    "Dans cette partie, on travaille sur la matière Base de Données, où les notes sont des catégories désignées par des lettres. La matière est notée `BD` dans le dataFrame."
   ]
  },
  {
   "cell_type": "markdown",
   "metadata": {
    "collapsed": true
   },
   "source": [
    "### Tableau statistique"
   ]
  },
  {
   "cell_type": "markdown",
   "metadata": {},
   "source": [
    "#### Exercice\n",
    "\n",
    "A l'aide de la fonction `value_counts()` vue précédemment :\n",
    "1. donnez les effectifs de chaque catégorie,\n",
    "2. donnez les fréquences de chaque catégorie,\n",
    "3. même question mais en intégrant les valeurs manquantes comme une catégorie à part entière."
   ]
  },
  {
   "cell_type": "markdown",
   "metadata": {
    "collapsed": true
   },
   "source": [
    "### Représentations graphiques"
   ]
  },
  {
   "cell_type": "markdown",
   "metadata": {},
   "source": [
    "Les représentations habituelles pour les variables catégoriques sont le diagramme en secteurs et le diagramme en barres. Dans [pandas](http://pandas.pydata.org/), les deux diagrammes se construsient en deux étapes :\n",
    "1. on applique `value_count()` pour déterminer les effectifs des catégories (on peut éventuellement trier la sortie),\n",
    "2. on dessine le diagramme avec une fonction graphique `plot.pie()` ou `plot.bar()`."
   ]
  },
  {
   "cell_type": "markdown",
   "metadata": {},
   "source": [
    "Diagramme en secteurs"
   ]
  },
  {
   "cell_type": "code",
   "execution_count": null,
   "metadata": {
    "scrolled": true
   },
   "outputs": [],
   "source": [
    "from matplotlib import pyplot\n",
    "pyplot.rcParams[\"figure.figsize\"] = [5,5]    # pour que la zone zone graphique soit carrée --> diagramme bien circulaire \n",
    "tableau.BD.value_counts().sort_index().plot.pie()\n",
    "pyplot.legend()    # pour ajouter la légence"
   ]
  },
  {
   "cell_type": "markdown",
   "metadata": {},
   "source": [
    "<br>\n",
    "Diagramme en barres"
   ]
  },
  {
   "cell_type": "code",
   "execution_count": null,
   "metadata": {
    "scrolled": false
   },
   "outputs": [],
   "source": [
    "tableau.BD.value_counts().sort_index().plot.bar()"
   ]
  },
  {
   "cell_type": "markdown",
   "metadata": {
    "collapsed": true
   },
   "source": [
    "### Indicateurs   (pour information)"
   ]
  },
  {
   "cell_type": "markdown",
   "metadata": {
    "collapsed": true
   },
   "source": [
    "Il y a peu d'indicateurs dans le cas d'une variable catégorique :\n",
    "- valeur centrale :\n",
    "  - le mode (valeur la plus férquente) : c'est ce qu'on utilise le plus souvent\n",
    "  - la médiane : possible, mais cela suppose une relation d'ordre entre les valeurs\n",
    "  - la moyenne : pas de sens  \n",
    "-  dispersion :\n",
    "  - on peut utiliser l'entropie"
   ]
  },
  {
   "cell_type": "markdown",
   "metadata": {},
   "source": [
    "## Partie 2 - Projet Immobilier\n",
    "\n",
    "### Exercice :\n",
    "1. créez un nouveau notebook\n",
    "2. récupérez (ou bien créez) les données nettoyées obtenues lors de la partie Pandas\n",
    "3. créez un histogramme avec la distribution des prix des appartements\n",
    "4. créez un histogramme avec la distribution des prix des maisons\n",
    "5. créez un histogramme avec le prix moyen des appartements par communes\n",
    "6. créez un histogramme avec le prix moyen des maisons par communes\n",
    "7. créez un histogramme avec la distribution des prix des appartements par type d'appartement (T1, T2, T3, ...)\n",
    "8. affichez le prix d'un appartement (en Y) par rapport à sa superficie (en X)\n",
    "9. affichez le prix d'une maison (en Y) par rapport à sa superficie (en X)\n",
    "10. affichez le prix d'un appartement (en Y) par rapport à son année de construction (en X)\n",
    "11. affichez le prix d'une maison (en Y) par rapport à son année de construction (en X)\n",
    "12. affinez vos choix de colonnes pour la prédiction du prix d'un bien immobilier"
   ]
  },
  {
   "cell_type": "markdown",
   "metadata": {},
   "source": [
    "\n"
   ]
  }
 ],
 "metadata": {
  "interpreter": {
   "hash": "9d13a69d3e0f9b0f95c3b856c6f18deee5c423afd738659cea9cfc9e47304cdc"
  },
  "kernelspec": {
   "display_name": "Python 3.6.7 64-bit ('base': conda)",
   "name": "python3"
  },
  "language_info": {
   "codemirror_mode": {
    "name": "ipython",
    "version": 3
   },
   "file_extension": ".py",
   "mimetype": "text/x-python",
   "name": "python",
   "nbconvert_exporter": "python",
   "pygments_lexer": "ipython3",
   "version": "3.6.7"
  },
  "toc": {
   "base_numbering": 1,
   "nav_menu": {},
   "number_sections": true,
   "sideBar": true,
   "skip_h1_title": false,
   "title_cell": "Table of Contents",
   "title_sidebar": "Contents",
   "toc_cell": false,
   "toc_position": {},
   "toc_section_display": true,
   "toc_window_display": false
  }
 },
 "nbformat": 4,
 "nbformat_minor": 2
}
