{
 "cells": [
  {
   "cell_type": "markdown",
   "metadata": {},
   "source": [
    "# Présentation du TP\n",
    "\n",
    "Dans ce TP, l'objectif est d'implémenter les opérations simples sur les graphes orientés. \n",
    "La représentation choisie pour les graphes est une matrice d'adjacence, qui sera représentée par un tableau de tableau (les noms des sommets sont des entiers et seront numérotés en commençant à 0). Nous considérons que le nombre de sommets du graphe ne pourra pas être modifié une fois le graphe construit."
   ]
  },
  {
   "cell_type": "markdown",
   "metadata": {},
   "source": [
    "\n",
    "## Installation de graphviz pour pouvoir visualiser les graphes"
   ]
  },
  {
   "cell_type": "code",
   "execution_count": null,
   "metadata": {},
   "outputs": [],
   "source": [
    "!pip install graphviz\n",
    "import graphviz\n",
    "graphviz.__version__, graphviz.version()"
   ]
  },
  {
   "cell_type": "markdown",
   "metadata": {},
   "source": [
    "## Création d'une fonction de conversion d'un graphe, défini par une matrice d'adjacence, vers le format graphviz"
   ]
  },
  {
   "cell_type": "code",
   "execution_count": 12,
   "metadata": {},
   "outputs": [],
   "source": [
    "def creation_graphe_graphviz(g):\n",
    "    # création d'un graphe orienté\n",
    "    dot = graphviz.Digraph()\n",
    "    \n",
    "    # ajout des sommets\n",
    "    for i in range(len(g)):\n",
    "        dot.node(str(i))\n",
    "    \n",
    "    # ajout des arcs\n",
    "    for i in range(len(g)):\n",
    "        for j in range(len(g)):\n",
    "            if g[i][j] == 1:\n",
    "                dot.edge(str(i), str(j))\n",
    "    \n",
    "    return dot"
   ]
  },
  {
   "cell_type": "markdown",
   "metadata": {},
   "source": [
    "\n",
    "## Création et affichage d'un premier graphe orienté\n"
   ]
  },
  {
   "cell_type": "code",
   "execution_count": 13,
   "metadata": {},
   "outputs": [],
   "source": [
    "graphe1 = [[0,1,1],\n",
    "          [1,0,1],\n",
    "          [1,0,0]]"
   ]
  },
  {
   "cell_type": "markdown",
   "metadata": {},
   "source": [
    "#### Affichage de la matrice"
   ]
  },
  {
   "cell_type": "code",
   "execution_count": 14,
   "metadata": {},
   "outputs": [
    {
     "name": "stdout",
     "output_type": "stream",
     "text": [
      "[[0, 1, 1], [1, 0, 1], [1, 0, 0]]\n"
     ]
    }
   ],
   "source": [
    "print(graphe1)"
   ]
  },
  {
   "cell_type": "markdown",
   "metadata": {},
   "source": [
    "#### Création du graphe associé, au format graphviz, pour pouvoir faire l'affichage de la représentation sagittale du graphe"
   ]
  },
  {
   "cell_type": "code",
   "execution_count": 1,
   "metadata": {},
   "outputs": [],
   "source": [
    "gdot1 = creation_graphe_graphviz(graphe1)\n",
    "print(gdot1.source)"
   ]
  },
  {
   "cell_type": "markdown",
   "id": "c790f3df",
   "metadata": {},
   "source": [
    "#### Affichage de la représentation sagittale du graphe"
   ]
  },
  {
   "cell_type": "code",
   "execution_count": null,
   "metadata": {},
   "outputs": [],
   "source": [
    "gdot1"
   ]
  },
  {
   "cell_type": "markdown",
   "metadata": {},
   "source": [
    "\n",
    "\n",
    "# Définition des premières fonctions pour manipuler les graphes"
   ]
  },
  {
   "cell_type": "markdown",
   "metadata": {},
   "source": [
    "#### Fonction qui construit un graphe vide (sans arcs), avec le nombre de sommets donné, et qui retourne la matrice d'adjacence correspondante"
   ]
  },
  {
   "cell_type": "code",
   "execution_count": null,
   "metadata": {},
   "outputs": [],
   "source": [
    "def graphe_vide(n):\n",
    "    g = []\n",
    "    for i in range(n):\n",
    "        l = []\n",
    "        for j in range(n):\n",
    "            l.append(0)\n",
    "        g.append(l)\n",
    "    return g"
   ]
  },
  {
   "cell_type": "code",
   "execution_count": null,
   "metadata": {},
   "outputs": [],
   "source": [
    "graphe2 = graphe_vide(5)\n",
    "print(graphe2)\n",
    "gdot2 = creation_graphe_graphviz(graphe2)\n",
    "gdot2"
   ]
  },
  {
   "cell_type": "markdown",
   "metadata": {},
   "source": [
    "### Fonction qui retourne vrai si l'arc, dont les numéros de sommets extrémités sont donnés, existe"
   ]
  },
  {
   "cell_type": "code",
   "execution_count": null,
   "metadata": {},
   "outputs": [],
   "source": [
    "def est_arc(g, i, j):\n",
    "    #todo"
   ]
  },
  {
   "cell_type": "code",
   "execution_count": null,
   "metadata": {},
   "outputs": [],
   "source": [
    "print(est_arc(graphe1, 0, 0))\n",
    "print(est_arc(graphe1, 0, 1))"
   ]
  },
  {
   "cell_type": "markdown",
   "metadata": {},
   "source": [
    "\n",
    "#### Fonction qui ajoute un arc au graphe, s'il n'est pas déjà présent"
   ]
  },
  {
   "cell_type": "code",
   "execution_count": null,
   "metadata": {},
   "outputs": [],
   "source": [
    "def ajoute_arc(g, i, j):\n",
    "    #todo"
   ]
  },
  {
   "cell_type": "code",
   "execution_count": null,
   "metadata": {},
   "outputs": [],
   "source": [
    "ajoute_arc(graphe1, 0, 0)\n",
    "gdot1 = creation_graphe_graphviz(graphe1)\n",
    "gdot1"
   ]
  },
  {
   "cell_type": "code",
   "execution_count": null,
   "metadata": {},
   "outputs": [],
   "source": [
    "ajoute_arc(graphe1, 0, 1)\n",
    "gdot1 = creation_graphe_graphviz(graphe1)\n",
    "gdot1"
   ]
  },
  {
   "cell_type": "markdown",
   "metadata": {},
   "source": [
    "#### Fonction qui ote un arc du graphe, s'il était déjà présent"
   ]
  },
  {
   "cell_type": "code",
   "execution_count": null,
   "metadata": {},
   "outputs": [],
   "source": [
    "def ote_arc(g, i, j):\n",
    "    #todo"
   ]
  },
  {
   "cell_type": "code",
   "execution_count": null,
   "metadata": {},
   "outputs": [],
   "source": [
    "ote_arc(graphe1, 0, 0)\n",
    "gdot1 = creation_graphe_graphviz(graphe1)\n",
    "gdot1"
   ]
  },
  {
   "cell_type": "code",
   "execution_count": null,
   "metadata": {},
   "outputs": [],
   "source": [
    "ote_arc(graphe1, 1, 1)\n",
    "gdot1 = creation_graphe_graphviz(graphe1)\n",
    "gdot1"
   ]
  },
  {
   "cell_type": "markdown",
   "metadata": {},
   "source": [
    "#### Fonction qui retourne le nombre de sommets du graphe"
   ]
  },
  {
   "cell_type": "code",
   "execution_count": null,
   "metadata": {},
   "outputs": [],
   "source": [
    "def nb_sommets(g):\n",
    "    #todo"
   ]
  },
  {
   "cell_type": "code",
   "execution_count": null,
   "metadata": {},
   "outputs": [],
   "source": [
    "n = nb_sommets(graphe1)\n",
    "print(\"Nombre de sommets :\", n)"
   ]
  },
  {
   "cell_type": "markdown",
   "metadata": {},
   "source": [
    "#### Fonction qui indique si un graphe est simple"
   ]
  },
  {
   "cell_type": "code",
   "execution_count": null,
   "metadata": {},
   "outputs": [],
   "source": [
    "def est_simple(g):\n",
    "    #todo"
   ]
  },
  {
   "cell_type": "code",
   "execution_count": null,
   "metadata": {},
   "outputs": [],
   "source": [
    "print(\"Graphe simple ?\", est_simple(graphe1))"
   ]
  },
  {
   "cell_type": "markdown",
   "metadata": {},
   "source": [
    "#### Fonction qui indique si un graphe est complet"
   ]
  },
  {
   "cell_type": "code",
   "execution_count": null,
   "metadata": {},
   "outputs": [],
   "source": [
    "def est_complet(g):\n",
    "    #todo"
   ]
  },
  {
   "cell_type": "code",
   "execution_count": null,
   "metadata": {},
   "outputs": [],
   "source": [
    "print(\"Graphe complet ?\", est_complet(graphe1))"
   ]
  },
  {
   "cell_type": "markdown",
   "metadata": {},
   "source": [
    "#### Fonction qui indique si un graphe est symétrique"
   ]
  },
  {
   "cell_type": "code",
   "execution_count": null,
   "metadata": {},
   "outputs": [],
   "source": [
    "def est_symetrique(g):\n",
    "    #todo"
   ]
  },
  {
   "cell_type": "code",
   "execution_count": null,
   "metadata": {},
   "outputs": [],
   "source": [
    "print(\"Graphe symétrique ?\", est_symetrique(graphe1))"
   ]
  },
  {
   "cell_type": "markdown",
   "metadata": {},
   "source": [
    "#### Fonction qui retourne le degré entrant du sommet donné"
   ]
  },
  {
   "cell_type": "code",
   "execution_count": null,
   "metadata": {},
   "outputs": [],
   "source": [
    "def degre_entrant(g,s):\n",
    "    #todo"
   ]
  },
  {
   "cell_type": "code",
   "execution_count": null,
   "metadata": {},
   "outputs": [],
   "source": [
    "print(\"degré entrant du sommet 0 :\", degre_entrant(graphe1,0))\n",
    "print(\"degré entrant du sommet 1 :\", degre_entrant(graphe1,1))\n",
    "print(\"degré entrant du sommet 2 :\", degre_entrant(graphe1,2))"
   ]
  },
  {
   "cell_type": "markdown",
   "metadata": {},
   "source": [
    "#### Fonction qui retourne le degré sortant du sommet donné"
   ]
  },
  {
   "cell_type": "code",
   "execution_count": null,
   "metadata": {},
   "outputs": [],
   "source": [
    "def degre_sortant(g,s):\n",
    "    #todo"
   ]
  },
  {
   "cell_type": "code",
   "execution_count": null,
   "metadata": {},
   "outputs": [],
   "source": [
    "print(\"degré sortant du sommet 0 :\", degre_sortant(graphe1,0))\n",
    "print(\"degré sortant du sommet 1 :\", degre_sortant(graphe1,1))\n",
    "print(\"degré sortant du sommet 2 :\", degre_sortant(graphe1,2))"
   ]
  },
  {
   "cell_type": "markdown",
   "metadata": {},
   "source": [
    "#### Fonction qui retourne le degré total du sommet donné"
   ]
  },
  {
   "cell_type": "code",
   "execution_count": null,
   "metadata": {},
   "outputs": [],
   "source": [
    "def degre_total(g,s):\n",
    "    #todo"
   ]
  },
  {
   "cell_type": "code",
   "execution_count": null,
   "metadata": {},
   "outputs": [],
   "source": [
    "print(\"degré total du sommet 0 :\", degre_total(graphe1,0))\n",
    "print(\"degré total du sommet 1 :\", degre_total(graphe1,1))\n",
    "print(\"degré total du sommet 2 :\", degre_total(graphe1,2))"
   ]
  },
  {
   "cell_type": "markdown",
   "metadata": {},
   "source": [
    "#### Fonction qui retourne les degrés entrants des sommets du graphe, sous la forme d'un tableau"
   ]
  },
  {
   "cell_type": "code",
   "execution_count": null,
   "metadata": {},
   "outputs": [],
   "source": [
    "def degres_entrants(g):\n",
    "    #todo"
   ]
  },
  {
   "cell_type": "code",
   "execution_count": null,
   "metadata": {},
   "outputs": [],
   "source": [
    "print(degres_entrants(graphe1))"
   ]
  },
  {
   "cell_type": "markdown",
   "metadata": {},
   "source": [
    "#### Fonction qui retourne les degrés sortants des sommets du graphe, sous la forme d'un tableau"
   ]
  },
  {
   "cell_type": "code",
   "execution_count": null,
   "metadata": {},
   "outputs": [],
   "source": [
    "def degres_sortants(g):\n",
    "    #todo"
   ]
  },
  {
   "cell_type": "code",
   "execution_count": null,
   "metadata": {},
   "outputs": [],
   "source": [
    "print(degres_sortants(graphe1))"
   ]
  },
  {
   "cell_type": "markdown",
   "metadata": {},
   "source": [
    "#### Fonction qui retourne les degrés totaux des sommets du graphe, sous la forme d'un tableau"
   ]
  },
  {
   "cell_type": "code",
   "execution_count": null,
   "metadata": {},
   "outputs": [],
   "source": [
    "def degres_totaux(g):\n",
    "    #todo"
   ]
  },
  {
   "cell_type": "code",
   "execution_count": null,
   "metadata": {},
   "outputs": [],
   "source": [
    "print(degres_totaux(graphe1))"
   ]
  },
  {
   "cell_type": "markdown",
   "metadata": {},
   "source": [
    "#### Fonction qui retourne un tableau contenant les noms des sommets successeurs du sommet donné"
   ]
  },
  {
   "cell_type": "code",
   "execution_count": null,
   "metadata": {},
   "outputs": [],
   "source": [
    "def successeurs(g,s):\n",
    "    #todo"
   ]
  },
  {
   "cell_type": "code",
   "execution_count": null,
   "metadata": {},
   "outputs": [],
   "source": [
    "print(\"Successeurs du sommet 0 :\", successeurs(graphe1,0))\n",
    "print(\"Successeurs du sommet 1 :\", successeurs(graphe1,1))\n",
    "print(\"Successeurs du sommet 2 :\", successeurs(graphe1,2))"
   ]
  },
  {
   "cell_type": "markdown",
   "metadata": {},
   "source": [
    "#### Fonction qui retourne un tableau contenant les noms des sommets prédécesseurs du sommet donné"
   ]
  },
  {
   "cell_type": "code",
   "execution_count": null,
   "metadata": {},
   "outputs": [],
   "source": [
    "def predecesseurs(g,s):\n",
    "    #todo"
   ]
  },
  {
   "cell_type": "code",
   "execution_count": null,
   "metadata": {},
   "outputs": [],
   "source": [
    "print(\"Prédécesseurs du sommet 0 :\", predecesseurs(graphe1,0))\n",
    "print(\"Prédécesseurs du sommet 1 :\", predecesseurs(graphe1,1))\n",
    "print(\"Prédécesseurs du sommet 2 :\", predecesseurs(graphe1,2))"
   ]
  },
  {
   "cell_type": "markdown",
   "metadata": {},
   "source": [
    "#### Fonction qui retourne la matrice d'adjacence correspondant au graphe réciproque du graphe donné"
   ]
  },
  {
   "cell_type": "code",
   "execution_count": null,
   "metadata": {},
   "outputs": [],
   "source": [
    "def graphe_reciproque(g):\n",
    "    #todo"
   ]
  },
  {
   "cell_type": "code",
   "execution_count": null,
   "metadata": {},
   "outputs": [],
   "source": [
    "graphe1_rec = graphe_reciproque(graphe1)\n",
    "#print(graphe1_rec)\n",
    "gdot1_rec = creation_graphe_graphviz(graphe1_rec)\n",
    "gdot1_rec"
   ]
  },
  {
   "cell_type": "markdown",
   "metadata": {},
   "source": [
    "#### Fonction qui retourne la matrice d'adjacence correspondant au graphe complémentaire du graphe donné"
   ]
  },
  {
   "cell_type": "code",
   "execution_count": null,
   "metadata": {},
   "outputs": [],
   "source": [
    "def graphe_complementaire(g):\n",
    "    #todo"
   ]
  },
  {
   "cell_type": "code",
   "execution_count": null,
   "metadata": {},
   "outputs": [],
   "source": [
    "graphe1_comp = graphe_complementaire(graphe1)\n",
    "#print(graphe1_rec)\n",
    "gdot1_comp = creation_graphe_graphviz(graphe1_comp)\n",
    "gdot1_comp"
   ]
  },
  {
   "cell_type": "markdown",
   "metadata": {},
   "source": [
    "#### Fonction qui retourne la matrice d'adjacence correspondant au graphe symétrique du graphe donné"
   ]
  },
  {
   "cell_type": "code",
   "execution_count": null,
   "metadata": {},
   "outputs": [],
   "source": [
    "def graphe_symetrique(g):\n",
    "    #todo"
   ]
  },
  {
   "cell_type": "code",
   "execution_count": null,
   "metadata": {},
   "outputs": [],
   "source": [
    "graphe1_sym = graphe_symetrique(graphe1)\n",
    "#print(graphe1_rec)\n",
    "gdot1_sym = creation_graphe_graphviz(graphe1_sym)\n",
    "gdot1_sym"
   ]
  },
  {
   "cell_type": "markdown",
   "metadata": {},
   "source": [
    "#### Fonction qui indique si la liste des sommets donnés correspond à un chemin, dans le graphe donné"
   ]
  },
  {
   "cell_type": "code",
   "execution_count": null,
   "metadata": {},
   "outputs": [],
   "source": [
    "def est_chemin(g,ls):\n",
    "    #todo"
   ]
  },
  {
   "cell_type": "code",
   "execution_count": null,
   "metadata": {},
   "outputs": [],
   "source": [
    "print(\"Chemin [] ?\", est_chemin(graphe1,[]))\n",
    "print(\"Chemin [1] ?\", est_chemin(graphe1,[1]))\n",
    "print(\"Chemin [0, 1] ?\", est_chemin(graphe1,[0,1]))\n",
    "print(\"Chemin [0, 1, 2] ?\", est_chemin(graphe1,[0,1,2]))\n",
    "print(\"Chemin [0, 2, 1] ?\", est_chemin(graphe1,[0,2,1]))\n",
    "print(\"Chemin [0, 1, 2, 2] ?\", est_chemin(graphe1,[0,1,2,2]))"
   ]
  },
  {
   "cell_type": "markdown",
   "metadata": {},
   "source": [
    "#### Fonction qui indique si la liste des sommets donnés correspond à un circuit, dans le graphe donné"
   ]
  },
  {
   "cell_type": "code",
   "execution_count": null,
   "metadata": {},
   "outputs": [],
   "source": [
    "def est_circuit(g,ls):\n",
    "    #todo"
   ]
  },
  {
   "cell_type": "code",
   "execution_count": null,
   "metadata": {},
   "outputs": [],
   "source": [
    "print(\"Circuit [] ?\", est_circuit(graphe1,[]))\n",
    "print(\"Circuit [1] ?\", est_circuit(graphe1,[1]))\n",
    "print(\"Circuit [0, 1] ?\", est_circuit(graphe1,[0,1]))\n",
    "print(\"Circuit [0, 1, 2, 0] ?\", est_circuit(graphe1,[0,1,2,0]))\n",
    "print(\"Circuit [0, 2, 1, 0] ?\", est_circuit(graphe1,[0,2,1,0]))\n",
    "print(\"Circuit [0, 1, 2, 2] ?\", est_circuit(graphe1,[0,1,2,2]))"
   ]
  },
  {
   "cell_type": "code",
   "execution_count": null,
   "metadata": {},
   "outputs": [],
   "source": []
  }
 ],
 "metadata": {
  "kernelspec": {
   "display_name": "Python 3",
   "language": "python",
   "name": "python3"
  },
  "language_info": {
   "codemirror_mode": {
    "name": "ipython",
    "version": 3
   },
   "file_extension": ".py",
   "mimetype": "text/x-python",
   "name": "python",
   "nbconvert_exporter": "python",
   "pygments_lexer": "ipython3",
   "version": "3.8.10"
  }
 },
 "nbformat": 4,
 "nbformat_minor": 5
}
